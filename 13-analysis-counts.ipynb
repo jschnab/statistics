{
 "cells": [
  {
   "cell_type": "markdown",
   "metadata": {},
   "source": [
    "# Analysis of counts\n",
    "\n",
    "## 1. Introduction\n",
    "\n",
    "In this chapter we discuss the analysis of categorial data, having shown in previous chapters how analyse data measured on a continuous scalre. Suppose the experimental unit is a plant and ten plants receive a particular treatment. We then measure the disease state: healthy or diseased. We may be interested in the proportion of plants which are infected. In germination tests we may wish to compare the proportions of seeds germinating for several treatments. In a genetics experiment we may want to compare the proportions of offspring of various phenotypes. We start by considering attributes which can only have two possible values, how to find confidence intervals for, and test hypotheses about a population proportion. These techniques are based on the theory of the binomial and normal distributions. In later sections the chi-square distribution is used to test goodness of fit and independence in two-way contingency tables.\n",
    "\n",
    "## 2. The binomial distribution\n",
    "\n",
    "Consider a series of n independent trials. Assume that there are only two possible outcomes (success or failure) at each trial, and that p is the constant probability of a success. This implies the probability of a failure at each trial is 1 - p (denoted by q). Hence p + q = 1. In this context a trial could be a planting of a seed or the injection of a viral strain into a plant. Success would be germination, or the incidence of a disease. Independence implies that the outcome of any one trial does not influence the outcome of any other.\n",
    "\n",
    "Let X represent the number of successes in n trials. It is a random variable which could take any value between 0 and n. The probability that X is equal to k is denoted by Pr(X = k), abbreviated $P_k$. The probability of obtaining exactly k successes in the n trials is given by the formula:\n",
    "\n",
    "$$ P_k = \\frac{n!}{k!(n - k)!}p^kq^{(n-k)} $$\n",
    "\n",
    "When using this formula you need to know the meaning of n! (n factorial). We illustrate the meaning with 4 factorial: $4! = 4 \\times 3 \\times 2 \\times 1 = 24$. You also need to know that $0! = 1$ and $p^0 = 1$.\n",
    "\n",
    "Let's take an example. Four seeds from the same genotype are planted and treated in the same way. Suppose each has a probability of 0.8 of germinating. Let's find the probability of the number of seeds germinating. In other words, we want $P_k$ for each value of k from 0 to 4."
   ]
  },
  {
   "cell_type": "code",
   "execution_count": 1,
   "metadata": {},
   "outputs": [],
   "source": [
    "import pandas as pd\n",
    "import numpy as np\n",
    "import matplotlib.pyplot as plt\n",
    "from scipy.stats import binom\n",
    "from scipy.stats import norm\n",
    "from scipy.stats import beta\n",
    "from scipy.stats import t\n",
    "from scipy.stats import chi2\n",
    "from scipy.stats import chisquare"
   ]
  },
  {
   "cell_type": "code",
   "execution_count": 20,
   "metadata": {},
   "outputs": [
    {
     "data": {
      "image/png": "[encoded data removed]",
      "text/plain": [
       "<matplotlib.figure.Figure at 0x23064b769e8>"
      ]
     },
     "metadata": {},
     "output_type": "display_data"
    }
   ],
   "source": [
    "#calculate Pk for each k\n",
    "k = np.array(list(range(5)))\n",
    "n = 4\n",
    "p = 0.8\n",
    "Pk = binom.pmf(k, n, p)\n",
    "\n",
    "#display histogram of Pk\n",
    "fig, ax = plt.subplots()\n",
    "ax.bar([i for i in range(5)], Pk, zorder=4)\n",
    "spines = ['right', 'top', 'left', 'bottom']\n",
    "for spine in spines:\n",
    "    ax.spines[spine].set_visible(False)\n",
    "ax.grid(color='lightgrey')\n",
    "ax.tick_params(axis='both', color='white')\n",
    "ax.set_xlabel('Number of germinating seeds')\n",
    "ax.set_ylabel('Probability')\n",
    "plt.show()"
   ]
  },
  {
   "cell_type": "markdown",
   "metadata": {},
   "source": [
    "In general the binomial distribution is skew. Let's see $P_k$ values with n = 6 and p = 0.2, 0.3, 0.4, 0.5 and 0.8, respectively. Note that the probabilities for p = 0.2 are identical to those for p = 0.8 but in reverse order."
   ]
  },
  {
   "cell_type": "code",
   "execution_count": 41,
   "metadata": {},
   "outputs": [
    {
     "data": {
      "image/png": "[encoded data removed]",
      "text/plain": [
       "<matplotlib.figure.Figure at 0x23065f10518>"
      ]
     },
     "metadata": {},
     "output_type": "display_data"
    }
   ],
   "source": [
    "#calculate Pk for each k and p\n",
    "k = np.array(list(range(7)))\n",
    "n = 6\n",
    "p = np.array([0.2, 0.3, 0.4, 0.5, 0.8])\n",
    "Pk = [0] * 5\n",
    "for i, proba in enumerate(p):\n",
    "    Pk[i] = binom.pmf(k, n, proba)\n",
    "    \n",
    "#display results on several histograms\n",
    "fig, axes = plt.subplots(ncols=5, figsize=(16, 4))\n",
    "for i, ax in enumerate(axes):\n",
    "    ax.bar([i for i in range(7)], Pk[i], zorder=4)\n",
    "    spines = ['right', 'top', 'left', 'bottom']\n",
    "    for spine in spines:\n",
    "        ax.spines[spine].set_visible(False)\n",
    "    ax.grid(color='lightgrey')\n",
    "    ax.tick_params(axis='both', color='white')\n",
    "    ax.set_xlabel('Number of germinating seeds')\n",
    "    ax.set_ylabel('Probability')\n",
    "    ax.set_title('p = {}'.format(p[i]))\n",
    "plt.subplots_adjust(wspace=0.4)\n",
    "plt.show()"
   ]
  },
  {
   "cell_type": "markdown",
   "metadata": {},
   "source": [
    "### 2.1 Mean and variance\n",
    "\n",
    "It can be shown that the mean of the binomial distribution is $np$ and the variance is $npq$. For example, if we carry out six trials and the probability of success at each trial is 0.2 we would expect 1.2 successes on average. The standard deviation would be $\\sqrt{npq}=0.98$.\n",
    "\n",
    "### 2.2 The normal approximation to the binomial distribution\n",
    "\n",
    "Provided the number of trials n is large and the probability of success at each trial is not too close to zero or one, probabilities associated with the binomial distribution can be approximated by assuming a normal distribution with mean np and variance npq. In practice, the approximation is acceptable if neither np nor nq is less than five. The probability of k or fewer successes in n independent trials is $Pr(X \\leq k ) = P_0 + P_1 + ... P_k$. This can be approximated by finding the area under the normal distribution curve to the left of $k + \\frac{1}{2}$. The $\\frac{1}{2}$ is the continuity correction reflecting the fact that a discrete distribution is being approximated by a continuous one. The corresponding z-value is:\n",
    "\n",
    "$$z = \\frac{(k + 0.5) - np}{\\sqrt(npq}$$\n",
    "\n",
    "To find $Pr(X \\geq k)$ use the equation $Pr(X \\geq k) = 1 - PR(X \\leq k - 1)$.\n",
    "\n",
    "Let's find an approximation to the probability of seven or fewer successes in 15 trials with p = 0.4."
   ]
  },
  {
   "cell_type": "code",
   "execution_count": 8,
   "metadata": {},
   "outputs": [
    {
     "name": "stdout",
     "output_type": "stream",
     "text": [
      "Pr( X <= 7) using the normal approximation : 0.785\n",
      "Pr( X <= 7) (exact value) : 0.787\n"
     ]
    }
   ],
   "source": [
    "#z-value\n",
    "k = 7\n",
    "n = 15\n",
    "p = 0.4\n",
    "z = (k + 0.5 - n * p) / np.sqrt(n * p * (1 - p))\n",
    "p_norm = norm.cdf(z)\n",
    "p_binom = binom.pmf(np.array(list(range(n + 1))), n, p)\n",
    "print(\"Pr( X <= 7) using the normal approximation : {:.3f}\".format(p_norm))\n",
    "print(\"Pr( X <= 7) (exact value) : {:.3f}\".format(p_binom[:8].sum()))"
   ]
  },
  {
   "cell_type": "markdown",
   "metadata": {},
   "source": [
    "## 3. Confidence intervals for a proportion\n",
    "\n",
    "Suppose you have a large batch of seed and wish to know the proportion which will germinate. You could take a random sample of seeds, carry out a germination test to find the proportion germinating and use this as an estimate for the whole batch. The reliability of this estimate depends on the sample size and can be assessed by calculating a confidence interval based on the binomial distribution. For large samples the normal approximation to the binomial distribution can be used provided certain assumptions are made. In the following section it is assumed that the population is large compared to the sample size.\n",
    "\n",
    "### 3.1 The exact method\n",
    "\n",
    "Let p be the proportion of the population possessing a certain attribute. For example, a plant may or may not be diseased, an animal may be male or female, a cutting may root or not, etc. In a random sample of size n, let k be the observed number of individuals possessing the attribute. The best estimate of p is $\\hat{p} = k / n$. In another sample, it is likely a different value for k would be obtained. Assuming that the possession of the attribute by one individual (success) does not affect that of another, k can be considered to be a value from a binomial distribution with n trials and probability of success at each trial of p. A 95% confidence interval for p can be obtained as follows.\n",
    "\n",
    "Let $p_L$ and $p_U$ be the required lower and upper confidence limits. $p_U$ is the value of $p$ such that the probability of k or fewer successes in the n trials is 0.0025 and $p_L$ is that  value of $p$ such that the probability of k or more successes in the n trials is 0.025. \n",
    "\n",
    "Let's illustrate this with the follwing example. A random sample of 20 seeds is taken and four germinate. The point estimate is 4 / 20 = 0.2. To find $p_U$ we need to find that value of $p$ for a binomial distribution with n = 20 such that the probability of getting four or fewer successes is 0.025. In other words we have to solve the equation $0.025 = P_0 +  P_1 + P_2 + P_3 + P_4$. To find $p_L$ we need to find that value of $p$ for a binomial distribution with n = 20 such that the probability of getting four or more successes is 0.025. This is 1 minus the probability of getting three or fewer successes we need p such that $0.975 = P_0 + P_1 + P_2 + P_3$. Note that this confidence interval is not symmetrical around 0.2 (it would have if the observed proportion was 0.5). The interval is not unique. Another 95 % confidence interval is obtained by replacing 0.025 and 0.025 in the calculation of $p_U$ and $p_L$ by 0.01 and o.04 to give $p_L = 0.07$ and $p_U = 0.48$. Any combination could be used provided they add to 0.05, but it is traditional to use 0.025 and 0.025."
   ]
  },
  {
   "cell_type": "code",
   "execution_count": 48,
   "metadata": {},
   "outputs": [
    {
     "name": "stdout",
     "output_type": "stream",
     "text": [
      "95% confidence interval of p with n = 20 and k = 4: 0.0573 - 0.4366\n"
     ]
    }
   ],
   "source": [
    "#confidence intervals on a probability\n",
    "n = 20\n",
    "k = 4\n",
    "level = 0.05\n",
    "p_upper = beta.ppf(1 - level / 2, k + 1, n - k)\n",
    "p_lower = beta.ppf(level / 2, k, n - k + 1)\n",
    "print('95% confidence interval of p with n = 20 and k = 4: {:.4f} - {:.4f}'.format(p_lower, p_upper))"
   ]
  },
  {
   "cell_type": "markdown",
   "metadata": {},
   "source": [
    "### 3.2 The approximate method\n",
    "\n",
    "The exact method is rather difficult to understand and use. Fortunately there is a much easier method which gives almost the same results provided n is large and the observed proportion $\\hat{p}$ is not too close to 0 or 1. In practice if neither $n\\hat{p}$ nor $n(1-\\hat{p})$ is than than 5 we can use the normal approximation to the binomial distribution. Provided the population is large compared to the sample we can assume that k follows approximately a normal distribution with mean $np$ and variance $npq$. This implied that $k/n$ follows a normal distribution with mean $p/n = p$ and variance $npq/n^2 = pq/n$ where $q = 1 - p$.\n",
    "\n",
    "Approximate confidence interval for a population proportion can be obtained by assuming that $\\hat{p}$ comes from a normal distribution with a mean of $p$ and a standard deviation of $\\sqrt{pq/n}$. As $p$ is unkown a further approximation is obtained by using the sample estimate $\\hat{p}$. Hence an approximate 95% confidence interval for $p$ is $p \\pm 1.96 \\sqrt{\\hat{p}\\hat{q}/n}$.\n",
    "An approximate 99% confidence interval is obtained by replacing 1.96 by 2.58 in the above formula. The value of $\\sqrt{\\hat{p}\\hat{q}/n}$ is called the standard error of the proportion.\n",
    "\n",
    "**Caution**: the calculation are very wrong if the assumptions of the normal approximation are not met.\n",
    "\n",
    "Let's take an example. In a random sample of 200 seeds taken from a large batch, 120 were found to germinate."
   ]
  },
  {
   "cell_type": "code",
   "execution_count": 51,
   "metadata": {},
   "outputs": [
    {
     "name": "stdout",
     "output_type": "stream",
     "text": [
      "p = 0.6000\n",
      "99% confidence interval (n = 200, k = 120) : 0.5654 - 0.6346\n"
     ]
    }
   ],
   "source": [
    "#calculate 99% confidence interval\n",
    "n = 200\n",
    "k = 120\n",
    "p = k / n\n",
    "q = 1 - p\n",
    "p_lower = p - np.sqrt(p * q / n)\n",
    "p_higher = p + np.sqrt(p * q / n)\n",
    "print(\"p = {:.4f}\".format(p))\n",
    "print(\"99% confidence interval (n = 200, k = 120) : {:.4f} - {:.4f}\".format(p_lower, p_higher))"
   ]
  },
  {
   "cell_type": "markdown",
   "metadata": {},
   "source": [
    "### 3.3 Estimation of sample size\n",
    "\n",
    "Suppose you want to ensure that whatever the true population proportion, a 95% confidence interval extends no further than $\\delta$ on each side of the sample proportion. How many sample observations should we take? Using the normal approximation we require n such that:\n",
    "\n",
    "$$ 1.96 \\times \\sqrt{\\frac{pq}{n}} < \\delta $$\n",
    "\n",
    "$$ n \\geq  \\frac{1.96^2 \\times pq}{\\delta^2} $$\n",
    "\n",
    "Although p is unknown, pq has a maximum value of 0.25 when p = 0.5. For example, if p = 0.5 and you set $\\delta$ to 0.04, you will need a sample size of at least 600. If p is any other value the required sample size will be smaller.\n",
    "\n",
    "## 4. Hypothesis test of a proportion\n",
    "\n",
    "To test whether a population proportion is a particular value $p_0$, we could find a 95% confidence interval for the true proportion $p$. If $p_0$ is not in the interval we would reject the null hypothesis at the 5% level on a two-tailed test. Alternatively we could proceed as follows.\n",
    "\n",
    "### 4.1 Large-sample test\n",
    "\n",
    "Set up the null hypothesis that the population proportion $p$ is $p_0$ and decide on a level of significance, say 5%. Also decide on a one- or two-tailed alternative. Take a large random sample of size n and count the number of individuals k with the chosen attribute. The observed proportion is thus $\\hat{p} = k / n$. This is approximately normally distributed with a mean $p_0$ and a standard deviation $\\sqrt{p_0q_0/n}$ if the null hypothesis is true and assuming the conditions for the normal approximation to the binomial distribution hold. Hence the test statistic is :\n",
    "\n",
    "$$ z = \\frac{\\hat{p} - p_0}{\\sqrt{p_0q_0/n}} $$\n",
    "\n",
    "If the test is two tailed at the 5% level, we reject the null hypothesis if the magnitude of z is greater than 1.96. If it is one-tailed with the alternative that $p$ is greater than $p_0$ we reject at the 5% level if z is greater than 1.65.\n",
    "\n",
    "Let's take an example. A plant breeder wishes to know whether a single gene is responsible for the stem colour of a tomato plant. Genetic theory predicts a cross of two parents should result in seedlings which are purple and green-stemmed in the ratio 3:1. The offspring consisted of 112 purple and 46 green-stemmed seedlings."
   ]
  },
  {
   "cell_type": "code",
   "execution_count": 74,
   "metadata": {},
   "outputs": [
    {
     "name": "stdout",
     "output_type": "stream",
     "text": [
      "Test of p = 0.75 vs p not = 0.75\n",
      " Successes    Trials  Sample p         95% CI   z-value   p-value\n",
      "       112       158     0.709  0.666 - 0.751    -1.194     0.234\n"
     ]
    }
   ],
   "source": [
    "#testing if a single gene controls stem colour\n",
    "def approximate_test(k, n, p_null):\n",
    "    \"\"\"Tests if an experimental proportion is equal to a reference proportion.\n",
    "    k : number of successes\n",
    "    n : number of trials\n",
    "    p_null : expected proportion\"\"\"\n",
    "    p = k / n\n",
    "    z = (p - p_null) / np.sqrt(p_null * (1 - p_null) / n)\n",
    "    p_val = 2 * t.cdf(z, n - 1)\n",
    "    conf_inter = \"{:.3f} - {:.3f}\".format(p - np.sqrt(p * q / n), p + np.sqrt(p * q / n))\n",
    "    \n",
    "    print(\"Test of p = {0} vs p not = {0}\".format(p_null))\n",
    "    print(\"{:>10}{:>10}{:>10}{:>15}{:>10}{:>10}\".format(\"Successes\", \"Trials\", \"Sample p\", \"95% CI\", \"z-value\", \"p-value\"))\n",
    "    print(\"{:>10}{:>10}{:>10.3f}{:>15}{:>10.3f}{:>10.3f}\".format(k, n, p, conf_inter, z, p_val))\n",
    "    \n",
    "approximate_test(112, 158, 0.75)"
   ]
  },
  {
   "cell_type": "markdown",
   "metadata": {},
   "source": [
    "### 4.2 Small-sample test\n",
    "\n",
    "The use of the normal approximation may lead to false conclusions when small samples are involved. The exact test makes use of the binomial distribution.\n",
    "\n",
    "A manufacturer claims a plant growth hormone will cause at least 90% of cuttings to root. However, when ten identical cuttings are treated only seven root. Should you reject the claim based on this evidence? The null hypothesis is that p = 0.9 versus the alternative that p is less than 0.9. You carry out a one-tailed test because you will only refute the claim if a significantly smaller proportion than 0.9 root. The sample proportion is 0.7 so we need to find the probability of obtaining a proportion as low as this or lower when the population proportion is 0.9. This is the same as observing seven or fewer successes in a binomial distribution with n = 10 and p = 0.9. Note that is we perform the same analysis using the approximate test, we get a significant p-value, which leads to a false conclusion."
   ]
  },
  {
   "cell_type": "code",
   "execution_count": 95,
   "metadata": {},
   "outputs": [
    {
     "name": "stdout",
     "output_type": "stream",
     "text": [
      "Test of p = 0.9 vs p not = 0.9\n",
      " Successes    Trials  Sample p         95% CI   p-value\n",
      "         7        10     0.700  0.348 - 0.933     0.070\n"
     ]
    }
   ],
   "source": [
    "#testing if plant hormone claim is correct\n",
    "def exact_test(k, n, p_null):\n",
    "    \"\"\"Tests if an experimental proportion is equal to a reference proportion.\n",
    "    k : number of successes\n",
    "    n : number of trials\n",
    "    p_null : expected proportion\"\"\"\n",
    "    level = 0.05\n",
    "    p = k / n\n",
    "    p_val = binom.pmf(np.array(list(range(n + 1))), n, p_null)\n",
    "    conf_inter = \"{:.3f} - {:.3f}\".format(beta.ppf(level / 2, k, n - k + 1), beta.ppf(1 - level / 2, k + 1, n - k))\n",
    "    \n",
    "    print(\"Test of p = {0} vs p not = {0}\".format(p_null))\n",
    "    print(\"{:>10}{:>10}{:>10}{:>15}{:>10}\".format(\"Successes\", \"Trials\", \"Sample p\", \"95% CI\", \"p-value\"))\n",
    "    print(\"{:>10}{:>10}{:>10.3f}{:>15}{:>10.3f}\".format(k, n, p, conf_inter, p_val[:k + 1].sum()))\n",
    "\n",
    "exact_test(7, 10, 0.9)"
   ]
  },
  {
   "cell_type": "markdown",
   "metadata": {},
   "source": [
    "## 5. Comparing two proportions\n",
    "\n",
    "A random sample of size $n_1$ is taken from population 1 and the number of successes $k_1$ is noted. An independent sample of size $n_2$ is taken from population 2 and the number of successes $k_2$ is counted. The unknown population proportions are $p_1$ and $p_2$ and the sample proportions are $\\hat{p}_1 = k_1 / n_1$ and $\\hat{p}_2 = k_2 / n_2$. An approximate 95% confidence interval for $p_1 - p_2$ is given by:\n",
    "\n",
    "$$ (\\hat{p}_1 - \\hat{p}_2) \\pm 1.96 \\sqrt{\\frac{\\hat{p}_1\\hat{q}_1}{n_1} + \\frac{\\hat{p}_2\\hat{q}_2}{n_2}} $$\n",
    "\n",
    "where $\\hat{q}_1 = 1 - \\hat{p}_1$ $\\hat{q}_2 = 1 - \\hat{p}_2$.\n",
    "\n",
    "A 99% confidence interval is obtained by replacing 1.96 by 2.58. The approximation is not good if the observed proportions are near 0 or 1 of if the samples are small.\n",
    "\n",
    "Let's take an example. An experiment is conducted to compare two seed dressings on the viability of wheat seeds. One hundred seeds of a particular variety are randomly divided into two groups of 50 each. One group is given treatment one and the other treatment two. Subsequently, all the seeds are left to germinate on a moistened filter paper. It is found that 80% of the seeds given treatment one and 66% of those given treatment two germinate."
   ]
  },
  {
   "cell_type": "code",
   "execution_count": 100,
   "metadata": {},
   "outputs": [
    {
     "name": "stdout",
     "output_type": "stream",
     "text": [
      "95% confidence interval : -0.032 - 0.312\n"
     ]
    }
   ],
   "source": [
    "#calculation of a 95% confidence interval\n",
    "p1 = 0.8\n",
    "q1 = 1 - p1\n",
    "p2 = 0.66\n",
    "q2 = 1 - p2\n",
    "n1 = 50\n",
    "n2 = 50\n",
    "ci_low = abs(p1 - p2) - 1.96 * np.sqrt(p1 * q1 / n1 + p2 * q2 / n2)\n",
    "ci_high = abs(p1 - p2) + 1.96 * np.sqrt(p1 * q1 / n1 + p2 * q2 / n2)\n",
    "print(\"95% confidence interval : {:.3f} - {:.3f}\".format(ci_low, ci_high))"
   ]
  },
  {
   "cell_type": "markdown",
   "metadata": {},
   "source": [
    "We are 95% confident that the proportion of germinating seedlings lie between 31% in favour of treatment one of 3% in favour of treatment two. As this interval includes zero we cannot reject at the 5% level the null hypothesis. We would detect a significant difference with a sample size of 80 and the same proportions, indicating that large samples are required to detect small differences. While this method can be used to carry out hypothesis tests to compare two population proportions, the contingency table method (section 9) is more commonly used.\n",
    "\n",
    "## 6. The chi-square goodness of fit test\n",
    "\n",
    "This test is used to compare observed frequencies (O) in several categories (cells) corresponding with expected frequencies(E). The expected frequencies are calculated assuming a particular null hypothesis to be true. Under the null hypothesis you would expect the O and E values to be close together. To test the null hypothesis the following quantity is calculated:\n",
    "\n",
    "$$ \\chi^2 = \\sum \\frac{(O - E)^2}{E} $$\n",
    "\n",
    "This is the calculated chi-square which can be assumed to come approximately from a $\\chi^2$ distribution if the null hypothesis is true. The degrees of freedom, $\\nu$, is the number of cells minus the number of sample constants used to calculate the expected frequencies, which add to the sum of the observed frequencies. The null hypothesis is rejected if the value of $\\chi^2$ is sufficiently large, reflecting a significant discrepancy between observed and expected frequencies, hence the test is one-tailed. This approximate test is not reliable when some expected frequencies are less than 5. Some statisticians do not recommend using this test if more than 20% of the expected frequencies are less than 5, especially if these cells make a large contribution to the total chi-square value. The test should not be used if any cells have expected frequencies less than 1. However, in some situations cells with low expected frequencies may be combined.\n",
    "\n",
    "### 6.1 Goodness of fit with two categories\n",
    "\n",
    "The simplest application of the chi-square goodness of fit test is the test of the null hypothesis that a population proportion is a specified value. It is equivalent to the test described in section 4.1 and is only valid if the conditions for the normal approximation to the binomial distribution apply. Let's reuse the example of purple and green stem color on seedlings. The test has one degree of freedom because there are two categories and the sample total was used to calculated the expected frequencies. This ensures that the sum of the observed is equal to the sum of the expected frequencies. Note that the square root of 1.426 is 1.19, the z-value in our previous calculation, showing that the two tests are equivalent."
   ]
  },
  {
   "cell_type": "code",
   "execution_count": 27,
   "metadata": {},
   "outputs": [],
   "source": [
    "#goodness of fit test on two categories\n",
    "def gof_2cat(k, n, p_exp, console=True):\n",
    "    \"\"\"Perform a goodness of fit test on two categories.\n",
    "    k : (integer) number of successes\n",
    "    n : (integer) number of trials\n",
    "    p_exp : (float) expected probability of success\n",
    "    console : (boolean) True if results should be printed on the console\n",
    "    \"\"\"\n",
    "    \n",
    "    #calculated observed and expected values\n",
    "    obs = np.array([k, n - k])\n",
    "    exp = np.array([p_exp * n, (1 - p_exp) * n])\n",
    "    \n",
    "    #calculate chi-square\n",
    "    chi_sq = np.sum((obs - exp) ** 2 / exp)\n",
    "    \n",
    "    #calculate p-value\n",
    "    p_val = 1 - chi2.cdf(chi_sq, 1)\n",
    "    \n",
    "    if console:\n",
    "        print('Chi-square goodness of fit test on two categories')\n",
    "        print('{:>10}{:>10}{:>12}{:>10}{:>10}'.format('Observed X', 'Trials', 'Expected X', 'Chi2', 'p-value'))\n",
    "        print('{:>10}{:>10}{:>12.2f}{:>10.3f}{:>10.5f}'.format(k, n, exp[0], chi_sq, p_val))\n",
    "    \n",
    "    return chi_sq, p_val"
   ]
  },
  {
   "cell_type": "code",
   "execution_count": 29,
   "metadata": {},
   "outputs": [
    {
     "name": "stdout",
     "output_type": "stream",
     "text": [
      "Chi-square goodness of fit test on two categories\n",
      "Observed X    Trials  Expected X      Chi2   p-value\n",
      "       112       158      118.50     1.426   0.23239\n"
     ]
    }
   ],
   "source": [
    "_ = gof_2cat(112, 158, 0.75)"
   ]
  },
  {
   "cell_type": "markdown",
   "metadata": {},
   "source": [
    "### 6.2 Continuity correction\n",
    "\n",
    "The $\\chi ^2$ distribution is continuous whereas the calculated values are discrete. If the observed frequencies in the previous example had changed by 1 to 113 and 45, the calculated chi-square would have changed from 1.426 to 1.021, a discrete jump. With a total of 158 plants and expected frequencies of 118.5 and 39.5 it is not possible to obtain a calculated chi-square between these values. When the degrees of freedom is 1, a continuity correction is recommended where, for each cell, the magnitude of the difference between the observed and expected values is reduced by 0.5 before squaring. This reduces the value of chi-square and so makes the test more conservative. Let's calculate the adjusted chi-square for our example. Despite a descrease in the $\\chi ^2$ value and an increase in the p-value, our conclusion holds true."
   ]
  },
  {
   "cell_type": "code",
   "execution_count": 31,
   "metadata": {},
   "outputs": [],
   "source": [
    "#calculation of adjusted square (continuity correction)\n",
    "def gof_2cat_adj(k, n, p_exp, console=True):\n",
    "    \"\"\"Perform a goodness of fit test on two categories with continuity correction.\n",
    "    \n",
    "    Parameters\n",
    "    k : (integer) number of successes\n",
    "    n : (integer) number of trials\n",
    "    p_exp : (float) expected probability of success\n",
    "    console : (boolean) True if results should be printed on the console\n",
    "    \n",
    "    Returns\n",
    "    chi-square : adjusted chi-square value\n",
    "    p-value\n",
    "    \"\"\"\n",
    "    \n",
    "    #calculated observed and expected values\n",
    "    obs = np.array([k, n - k])\n",
    "    exp = np.array([p_exp * n, (1 - p_exp) * n])\n",
    "    \n",
    "    #calculate chi-square\n",
    "    chi_sq = np.sum(((abs(obs - exp) - 0.5) ** 2 / exp))\n",
    "    \n",
    "    #calculate p-value\n",
    "    p_val = 1 - chi2.cdf(chi_sq, 1)\n",
    "    \n",
    "    if console:\n",
    "        print('Chi-square goodness of fit test on two categories')\n",
    "        print('{:>10}{:>10}{:>12}{:>10}{:>10}'.format('Observed X', 'Trials', 'Expected X', 'Chi2', 'p-value'))\n",
    "        print('{:>10}{:>10}{:>12.2f}{:>10.3f}{:>10.5f}'.format(k, n, exp[0], chi_sq, p_val))\n",
    "    \n",
    "    return chi_sq, p_val"
   ]
  },
  {
   "cell_type": "code",
   "execution_count": 32,
   "metadata": {},
   "outputs": [
    {
     "name": "stdout",
     "output_type": "stream",
     "text": [
      "Chi-square goodness of fit test on two categories\n",
      "Observed X    Trials  Expected X      Chi2   p-value\n",
      "       112       158      118.50     1.215   0.27031\n"
     ]
    }
   ],
   "source": [
    "_ = gof_2cat_adj(112, 158, 0.75)"
   ]
  },
  {
   "cell_type": "markdown",
   "metadata": {},
   "source": [
    "### 6.3 Goodness of fit with more than two categories\n",
    "\n",
    "The same chi-square test is used as for two categories. The degrees of freedom are the number of cells (categories) minus the number of data restrictions used to calculate the expected frequencies.\n",
    "\n",
    "A parental cross is expected to produce progeny in categories A, B, C, D with a ratio 9:3:3:1. The observed frequencies of 250 progenies were 150, 42, 50, 8."
   ]
  },
  {
   "cell_type": "code",
   "execution_count": 29,
   "metadata": {},
   "outputs": [],
   "source": [
    "#goodness of fit test with four categories\n",
    "\n",
    "def goodness_fit(observed, p_exp, console=True):\n",
    "    \"\"\"Perform a goodness of fit test on two categories with continuity correction.\n",
    "    \n",
    "    Parameters\n",
    "    observed : (numpy array) frequencies for each category\n",
    "    p_exp : (numpy array) expected frequencies for each category\n",
    "    console : (boolean) True if results should be printed on the console\n",
    "    \n",
    "    Returns\n",
    "    chi-square : adjusted chi-square value\n",
    "    p-value\n",
    "    \"\"\"\n",
    "    \n",
    "    #expected frequencies\n",
    "    expected = observed.sum() * p_exp\n",
    "    \n",
    "    #print word of caution if any frequency is less than 5\n",
    "    if any(expected < 5):\n",
    "        print(\"Caution : some expected frequencies are less than 5.\\n\")\n",
    "    \n",
    "    #calculate chi-square\n",
    "    chi_sq = np.sum(((observed - expected) ** 2 / expected))\n",
    "    \n",
    "    #degrees of freedom\n",
    "    df = observed.size - 1\n",
    "    \n",
    "    #calculate p-value\n",
    "    p_val = 1 - chi2.cdf(chi_sq, df)\n",
    "    \n",
    "    if console:\n",
    "        print('Chi-square goodness of fit test on {} categories'.format(df + 1))\n",
    "        print('Chi-square : {:.3f} on {} df'.format(chi_sq, df))\n",
    "        print('p-value : {:.5f}'.format(p_val))\n",
    "    \n",
    "    return chi_sq, p_val"
   ]
  },
  {
   "cell_type": "code",
   "execution_count": 14,
   "metadata": {},
   "outputs": [
    {
     "name": "stdout",
     "output_type": "stream",
     "text": [
      "Chi-square goodness of fit test on 4 categories\n",
      "Chi-square : 5.061 on 3 df\n",
      "p-value : 0.16736\n"
     ]
    }
   ],
   "source": [
    "#observed frequencies\n",
    "observed = np.array([150, 42, 50, 8])\n",
    "\n",
    "#frequency model\n",
    "model = np.array([9/16, 3/16, 3/16, 1/16])\n",
    "\n",
    "_ = goodness_fit(observed, model)"
   ]
  },
  {
   "cell_type": "markdown",
   "metadata": {},
   "source": [
    "### Testing the fit to a binomial distribution\n",
    "\n",
    "Consider an experiment in which 100 pots are each planted with six seeds of one barley variety and the growing conditions are uniform. If the probability of any given seed germinating is 0.8 and the seeds germinate independently you would expect the number of seeds germinating in any particular pot to follow a binomial distribution with probabilities given on the second figure of section 2."
   ]
  },
  {
   "cell_type": "code",
   "execution_count": 30,
   "metadata": {},
   "outputs": [
    {
     "name": "stdout",
     "output_type": "stream",
     "text": [
      "Caution : some expected frequencies are less than 5.\n",
      "\n",
      "Chi-square goodness of fit test on 7 categories\n",
      "Chi-square : 28.014 on 6 df\n",
      "p-value : 0.00009\n"
     ]
    }
   ],
   "source": [
    "#testing the fit to the binomial distribution\n",
    "observed = np.array([0, 2, 3, 12, 19, 43, 21])\n",
    "model = binom.pmf(list(range(7)), 6, 0.8)\n",
    "_ = goodness_fit(observed, model)"
   ]
  },
  {
   "cell_type": "markdown",
   "metadata": {},
   "source": [
    "Since we obtained a very low p-value we are tempted to conclude there is very strong evidence against the null hypothesis. However, there are three expected frequencies less than 5, of which two are less than 1, so the test is unreliable. When an expected frequency is less than 1 a change in O of 1 can have a large effect on $\\chi ^2$. In this example if the O corresponding to k = 1 had been 1 instead of 2, its contribution to $\\chi ^2$ would have been 4.648 instead of 22.128 and a non-significant result probably obtained. A more reliable test is to combine the cells with expected frequencies less than 5 to obtain O = 0 + 2 + 3 = 5 and E = 0.006 + 0.154 + 1.536 = 1.696. The corresponding $(O - E)^2/E$ is 6.437. On adding this to the values for k = 3 to 6 the calculated $\\chi ^2$ is 10.853. The degrees of freedom are reduced to 4. The p-value still indicates a significant result. However, the expected frequency of 1.696 is still less than five so some authors would recommend a further combination. If the cell with k = 3 is also combined, this time the result is not significant, which is probably the most realistic conclusion.\n",
    "\n",
    "## 7. r x c contigency tables\n",
    "\n",
    "Each member of a sample is classified according to two criteria. In general, the first criterion has r classes and the second has c classes. The observed frequencies (counts) can then be summarised in a contingency table having r rows and c columns. The data may arise as the result of a survey or an experiment, and the chi-square goddness-of-fit test can be used to test whether the two criteria of classification are independent or associated. In some cases the row totals or column totals are fixed in advance and sometimes just the grand total is fixed. If any row or column consists entierely of zeros it should be deleted. Misleasing conclusions may also be made if the table contains some cells with very small counts. If the table has two rows or two columns the test can be used to compare two or more proportions. Importantly, the data in a contingency table must be in the form of counts for the chi-square test to be valid. Do not use proportions or percentages in the formula for chi-square.\n",
    "\n",
    "For example, we wish to know whether seed colour and petal colour in field beans are associated. If they are independent (not associated) then knowledge of seed colour would give no information about petal colour. You carry out a survey in which you obtain a random sample of 500 bean plants from the population of interest and classify each plant according to seed colour and petal colour. Suppose we obtaine the following results."
   ]
  },
  {
   "cell_type": "code",
   "execution_count": 42,
   "metadata": {},
   "outputs": [
    {
     "data": {
      "text/html": [
       "<div>\n",
       "<style scoped>\n",
       "    .dataframe tbody tr th:only-of-type {\n",
       "        vertical-align: middle;\n",
       "    }\n",
       "\n",
       "    .dataframe tbody tr th {\n",
       "        vertical-align: top;\n",
       "    }\n",
       "\n",
       "    .dataframe thead th {\n",
       "        text-align: right;\n",
       "    }\n",
       "</style>\n",
       "<table border=\"1\" class=\"dataframe\">\n",
       "  <thead>\n",
       "    <tr style=\"text-align: right;\">\n",
       "      <th>seed</th>\n",
       "      <th>brown</th>\n",
       "      <th>dark brown</th>\n",
       "      <th>light brown</th>\n",
       "      <th>white</th>\n",
       "    </tr>\n",
       "    <tr>\n",
       "      <th>petal</th>\n",
       "      <th></th>\n",
       "      <th></th>\n",
       "      <th></th>\n",
       "      <th></th>\n",
       "    </tr>\n",
       "  </thead>\n",
       "  <tbody>\n",
       "    <tr>\n",
       "      <th>mauve</th>\n",
       "      <td>102</td>\n",
       "      <td>55</td>\n",
       "      <td>70</td>\n",
       "      <td>8</td>\n",
       "    </tr>\n",
       "    <tr>\n",
       "      <th>purple</th>\n",
       "      <td>32</td>\n",
       "      <td>21</td>\n",
       "      <td>13</td>\n",
       "      <td>4</td>\n",
       "    </tr>\n",
       "    <tr>\n",
       "      <th>white</th>\n",
       "      <td>59</td>\n",
       "      <td>14</td>\n",
       "      <td>112</td>\n",
       "      <td>10</td>\n",
       "    </tr>\n",
       "  </tbody>\n",
       "</table>\n",
       "</div>"
      ],
      "text/plain": [
       "seed    brown  dark brown  light brown  white\n",
       "petal                                        \n",
       "mauve     102          55           70      8\n",
       "purple     32          21           13      4\n",
       "white      59          14          112     10"
      ]
     },
     "execution_count": 42,
     "metadata": {},
     "output_type": "execute_result"
    }
   ],
   "source": [
    "#dataframe containing bean seed and petal colour\n",
    "beans = pd.DataFrame({'petal': np.repeat(['purple', 'mauve', 'white'], 4),\n",
    "                      'seed': np.array(['dark brown', 'brown', 'light brown', 'white'] * 3),\n",
    "                      'counts': [21, 32, 13, 4,\n",
    "                                 55, 102, 70, 8,\n",
    "                                 14, 59, 112, 10]})\n",
    "beans_tab = pd.pivot_table(beans, values='counts', index='petal', columns='seed')\n",
    "beans_tab"
   ]
  },
  {
   "cell_type": "code",
   "execution_count": 69,
   "metadata": {},
   "outputs": [],
   "source": [
    "#goodness-of-fit test on a r x c contingency table\n",
    "def gof_table(table, console=True):\n",
    "    \"\"\"\n",
    "    Performs a goodness-of-fit test on a contingency table.\n",
    "    \n",
    "    table : pandas dataframe\n",
    "    \"\"\"\n",
    "    \n",
    "    #number of rows an columns\n",
    "    rows, cols = table.shape\n",
    "    \n",
    "    #degrees of freedom\n",
    "    df = (rows - 1) * (cols - 1)\n",
    "    \n",
    "    #sum of values of the whole table\n",
    "    total = table.sum().sum()\n",
    "    \n",
    "    #count of cells with expected counts < 5\n",
    "    caution = 0\n",
    "    \n",
    "    #initialize chi-square at 0 and add values by iterating through the table\n",
    "    chi_sq = 0\n",
    "    for r in range(rows):\n",
    "        for c in range(cols):\n",
    "            observed = table.iloc[r, c]\n",
    "            expected = table.iloc[r, :].sum() * table.iloc[:, c].sum() / total\n",
    "            if expected < 5:\n",
    "                caution += 1\n",
    "            chi_sq += (observed - expected) ** 2 / expected\n",
    "            \n",
    "    p_val = 1 - chi2.cdf(chi_sq, df)\n",
    "    \n",
    "    if console:\n",
    "        print(\"Goodness-of-fit test\")\n",
    "        print(\"Chi-square : {:.3f} on {} df\".format(chi_sq, df))\n",
    "        print(\"p-value : {:.5f}\\n\".format(p_val))\n",
    "        if caution > 0:\n",
    "            print(\"Caution : {} cells with expected counts less than 5.\".format(caution))\n",
    "    \n",
    "    return chi_sq, p_val"
   ]
  },
  {
   "cell_type": "code",
   "execution_count": 70,
   "metadata": {},
   "outputs": [
    {
     "name": "stdout",
     "output_type": "stream",
     "text": [
      "Goodness-of-fit test\n",
      "Chi-square : 58.575 on 6 df\n",
      "p-value : 0.00000\n",
      "\n",
      "Caution : 1 cells with expected counts less than 5.\n"
     ]
    }
   ],
   "source": [
    "_ = gof_table(beans_tab)"
   ]
  },
  {
   "cell_type": "markdown",
   "metadata": {},
   "source": [
    "## 8. 2 x c contingency tables : comparison of several proportions"
   ]
  }
 ],
 "metadata": {
  "kernelspec": {
   "display_name": "Python 3",
   "language": "python",
   "name": "python3"
  },
  "language_info": {
   "codemirror_mode": {
    "name": "ipython",
    "version": 3
   },
   "file_extension": ".py",
   "mimetype": "text/x-python",
   "name": "python",
   "nbconvert_exporter": "python",
   "pygments_lexer": "ipython3",
   "version": "3.6.6"
  }
 },
 "nbformat": 4,
 "nbformat_minor": 2
}
