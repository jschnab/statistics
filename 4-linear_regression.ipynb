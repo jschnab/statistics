{
 "cells": [
  {
   "cell_type": "markdown",
   "metadata": {},
   "source": [
    "# Linear regression and correlation\n",
    "Study of simultaneous change in two or more variables can be carried out using techniques of regression and correlation. A regression equation is a mathematical relationship which can be used to determine the expected value of a **dependent** (or **response**) variable $X$ for a given value of a correlated **independent** (or **predictor**) variable $Y$.\n",
    "\n",
    "## The least square regression line and its estimation\n",
    "Linear regression aims at finding parameters $\\alpha$ and $\\beta$ such that X and Y are connected by a linear relationship: $$Y = \\alpha + \\beta X$$\n",
    "The method almost universally used to calculate estimates of $\\alpha$ and $\\beta$ with a set of $n (X, Y)$ is the **method of least squares**. With this method, parameters of the linear regression of Y on X are calculated so that the sum of the squares of the deviations between the points and the regression line (called **residuals**) are minimized. The parameters are calculated as follows: \n",
    "$$\\hat{\\beta} = \\frac{Sxy}{Sxx}$$ \n",
    "$$\\hat{\\alpha} = \\bar{Y} - \\hat{\\beta} \\bar{X}$$\n",
    "\n",
    "$Sxy$ is the **corrected sum of products**: $$\\sum (X - \\bar{X})(Y - \\bar{Y}) = \\sum(XY) - \\frac{(\\sum X)(\\sum Y)}{n}$$\n",
    "$Sxx$ is the **corrected sum of squares of $X$ values**: $$\\sum (X - \\bar{X})^2 = \\sum X^2 - \\frac{(\\sum X)^2}{n}$$\n",
    "\n",
    "Thus the equation of the **fitted line** is $$\\hat{Y} = \\hat{\\alpha} + \\hat{\\beta}X$$\n",
    "$\\hat{Y}$ is the fitted (expected) value for a given $X$ value.\n",
    "\n",
    "Let's generate random linearly correlated values and calculate the regression line."
   ]
  },
  {
   "cell_type": "code",
   "execution_count": 1,
   "metadata": {},
   "outputs": [],
   "source": [
    "import numpy as np\n",
    "import matplotlib.pyplot as plt\n",
    "import seaborn as sns\n",
    "sns.set()\n",
    "from math import sqrt\n",
    "from scipy.stats import f, t, probplot, shapiro"
   ]
  },
  {
   "cell_type": "code",
   "execution_count": 2,
   "metadata": {},
   "outputs": [
    {
     "data": {
      "image/png": "[encoded data removed]",
      "text/plain": [
       "<Figure size 432x288 with 1 Axes>"
      ]
     },
     "metadata": {
      "needs_background": "light"
     },
     "output_type": "display_data"
    }
   ],
   "source": [
    "#uniformly distributed random values between 0 and 10\n",
    "x = np.random.uniform(1, 10, size=20)\n",
    "#x = np.array([0, 25, 50, 75, 100, 125])\n",
    "\n",
    "#y values linearly correlated to x with a normal \"noise\" with standard deviation of 4\n",
    "y = np.array([i * -2 + 1 + np.random.normal() * 4 for i in x])\n",
    "#y = np.array([3.7, 4.45, 4.75, 5.2, 5.15, 4.95])\n",
    "\n",
    "#corrected sum of products Sxy\n",
    "Sxy = np.sum(x * y) - np.sum(x) * np.sum(y) / len(x)\n",
    "\n",
    "#corrected sum of squares of X\n",
    "Sxx = np.sum(x ** 2) - np.sum(x) ** 2 / len(x)\n",
    "\n",
    "#calculation of the parameters of the regression line y = a * x + b\n",
    "b = Sxy / Sxx\n",
    "a = np.mean(y) - b * np.mean(x)\n",
    "\n",
    "#calculate fitted y values\n",
    "y_hat = np.array([a + b * i for i in x])\n",
    "\n",
    "#plot values\n",
    "fig, ax = plt.subplots()\n",
    "ax.scatter(x, y, color=\"C0\", label=\"experimental points\")\n",
    "ax.plot(x, y_hat, color=\"C3\", label=\"regression line\")\n",
    "ax.set_xlabel(\"x\")\n",
    "ax.set_ylabel(\"y\")\n",
    "ax.set_title(\"Linear regression of y on x\")\n",
    "#ax.set_xlim(-1, 101)\n",
    "#ax.set_ylim(-1, 22)\n",
    "ax.legend()\n",
    "plt.show()"
   ]
  },
  {
   "cell_type": "markdown",
   "metadata": {},
   "source": [
    "## The goodness of fit\n",
    "For each observed $(X, Y)$ pair the **residual** is the observed Y-value minus the fitted Y-value: $residual = Y - \\hat{Y}$. Examination of the residuals allows to investigate the adequacy of the model. The **sum of squared residuals** (or sum of squared errors, because they represent the error between the actual and fitted values) is $$SSE = \\sum(Y - \\hat{Y}) ^2$$\n",
    "The **regression sum of squares** is $$SSR = \\sum(\\hat{Y} - \\bar{Y}) ^2$$\n",
    "By dividing SSR by SSE + SSR we can measure the **goodness of fit** of the points to a straight line. When the fit is perfect SSE is 0 so this ratio is equal to 1. $$R^2 = \\frac{SSR}{SSE + SSR}$$\n",
    "$R^2$ is the proportion of the variation in y values accounted for by the linear regression model."
   ]
  },
  {
   "cell_type": "code",
   "execution_count": 3,
   "metadata": {},
   "outputs": [
    {
     "name": "stdout",
     "output_type": "stream",
     "text": [
      "R-square = 0.590\n"
     ]
    }
   ],
   "source": [
    "#calculation of R-sq\n",
    "SSE = np.sum((y - y_hat) ** 2)\n",
    "SSR = np.sum((y_hat - np.mean(y)) ** 2)\n",
    "Rsq = SSR / (SSE + SSR)\n",
    "print(\"R-square = {:.3f}\".format(Rsq))"
   ]
  },
  {
   "cell_type": "markdown",
   "metadata": {},
   "source": [
    "The $R^2$ value is an adequate measure of goodness of fit for simple linear regression when the estimates of $\\alpha$ and $\\beta$ are found by the method of least squares and the assumption of normality and homogeneity of variance are valid (see next section). When more parameters are added to the model, $R^2$ will tend to increase. The adjusted $R^2$ gives a measure of goodness of fit after adjustment for the extra terms in the model. $R^2$ is equal to the difference between the **total mean square** $\\frac{\\sum (Y - \\bar{Y}) ^2}{n - 1}$ and **the residual mean square** $\\frac{SSE}{n - 2}$, divided by the total mean square:\n",
    "$$R^2_{adj} = \\frac{\\frac{\\sum (Y - \\bar{Y}) ^2}{n - 1} - \\frac{SSE}{n-2}}{\\frac{\\sum (Y - \\bar{Y}) ^2}{n - 1}}$$"
   ]
  },
  {
   "cell_type": "code",
   "execution_count": 4,
   "metadata": {},
   "outputs": [
    {
     "name": "stdout",
     "output_type": "stream",
     "text": [
      "Adjusted R-square = 0.568\n"
     ]
    }
   ],
   "source": [
    "#calculation of adjusted R-sq\n",
    "\n",
    "#total mean square\n",
    "tms = np.sum((y - np.mean(y)) ** 2) / (len(y) - 1)\n",
    "\n",
    "rsq_adj = (tms - SSE / (len(y) - 2)) / tms\n",
    "\n",
    "print(\"Adjusted R-square = {:.3f}\".format(rsq_adj))"
   ]
  },
  {
   "cell_type": "markdown",
   "metadata": {},
   "source": [
    "Although $R^2$ measures the extent to which data lie on a straight line it is always positive. A correlation coefficient must lie between $-1$ and $+1$. It is calculated as the square root of $R^2$ and given a positive sign if $\\hat{\\beta}$ is positive."
   ]
  },
  {
   "cell_type": "code",
   "execution_count": null,
   "metadata": {},
   "outputs": [
    {
     "name": "stdout",
     "output_type": "stream",
     "text": [
      "Correlation coefficient r = -0.768\n"
     ]
    }
   ],
   "source": [
    "#calculation of the correlation coefficient\n",
    "r = sqrt(Rsq) * b / abs(b)\n",
    "print(\"Correlation coefficient r = {:.3f}\".format(r))"
   ]
  },
  {
   "cell_type": "markdown",
   "metadata": {},
   "source": [
    "## Assumptions, hypothesis tests and confidence intervals for simple linear regression\n",
    "The main assumption behind linear regression is that for each observed X value, the corresponding observed Y value is taken at random from a normal distribution with mean $\\alpha + \\beta X$ and variance $\\sigma ^ 2$. As X increases, the means of these normal distributions lie on a straight line, and each distribution has the same variance $\\sigma ^ 2$. One problem in many scientific studies is that for a given X we only observe one Y value, which could be far from $\\alpha + \\beta X$. In mathematical terms: $$Y = \\alpha + \\beta X + \\epsilon$$ with $\\epsilon$ a value from the normal distribution with mean 0 and variance $\\sigma ^ 2$. The values of $\\epsilon$ are estimated by the residuals $Y - \\hat{Y}$, so an analysis of these residuals can be used to test the assumptions of the model.\n",
    "\n",
    "Normality of residuals can be checked with a histogram, Q-Q plot or a Shapiro-Wilk test of residuals. Homogeneity of variance can be checked by plotting residuals agains fitted values."
   ]
  },
  {
   "cell_type": "code",
   "execution_count": null,
   "metadata": {},
   "outputs": [
    {
     "data": {
      "image/png": "[encoded data removed]",
      "text/plain": [
       "<Figure size 432x288 with 3 Axes>"
      ]
     },
     "metadata": {
      "needs_background": "light"
     },
     "output_type": "display_data"
    },
    {
     "name": "stdout",
     "output_type": "stream",
     "text": [
      "Shapiro-Wilk test on residuals\n",
      "W = 0.955, p-value = 4.414e-01\n"
     ]
    }
   ],
   "source": [
    "#calculation of residuals\n",
    "residuals = np.zeros(len(y))\n",
    "for i in range(len(y)):\n",
    "    residuals[i] = y[i] - y_hat[i]\n",
    "\n",
    "#plotting of residuals\n",
    "fig, ((ax0, ax1), (ax2, _)) = plt.subplots(nrows=2, ncols=2)\n",
    "fig.delaxes(_)\n",
    "plt.subplots_adjust(wspace=0.5, hspace=0.8)\n",
    "ax0.hist(residuals)\n",
    "ax0.set_xlabel(\"Residuals\")\n",
    "ax0.set_ylabel(\"Frequency\")\n",
    "ax0.set_title(\"Histogram of residuals\")\n",
    "probplot(residuals, plot=ax1)\n",
    "ax1.set_xlabel(\"Normal score\")\n",
    "ax1.set_ylabel(\"Residuals\")\n",
    "ax1.set_title(\"Q-Q plot of residuals\")\n",
    "ax2.scatter(y_hat, residuals)\n",
    "ax2.set_xlabel(\"Fitted values\")\n",
    "ax2.set_ylabel(\"Residuals\")\n",
    "ax2.set_title(\"Residuals VS fitted values\")\n",
    "ax2.axhline(y=0, linewidth=0.5, color=\"grey\")\n",
    "plt.show()\n",
    "\n",
    "#shapiro-wilk test on residuals\n",
    "w_shap, p_shap = shapiro(residuals)\n",
    "print(\"Shapiro-Wilk test on residuals\\nW = {0:.3f}, p-value = {1:.3e}\".format(w_shap, p_shap))"
   ]
  },
  {
   "cell_type": "markdown",
   "metadata": {},
   "source": [
    "Given the above assumptions, the best estimate of $\\sigma ^ 2$ was actually presented above, the **mean square error** \n",
    "$$MSE = \\sigma ^ 2 = \\frac{SSE}{n - 2}$$.\n",
    "The **residual degrees of freedom** $n - 2$ are calculated this way because we have estimated two parameters: $\\alpha$ and $\\beta$.\n",
    "\n",
    "### Testing the significance of the linear regression\n",
    "To test whether there is a significant linear regression we set up $H_0 : \\beta= 0$. To test $H_0$, we calculate the **variance ratio** by dividing the **regression mean square** $MSR = \\frac{SSR}{1}$ (because $SSR$ has $1$ degree of freedom) by $MSE$ and then we compare $VR$ to the critical value for an $F$-distribution with (1, n-2) degrees of freedom: $$VR = \\frac{MSR}{MSE}$$"
   ]
  },
  {
   "cell_type": "code",
   "execution_count": null,
   "metadata": {},
   "outputs": [
    {
     "name": "stdout",
     "output_type": "stream",
     "text": [
      "Testing the significance of the slope of the linear regression\n",
      "F-value: 25.936, p-value: 7.599e-05\n"
     ]
    }
   ],
   "source": [
    "#test of the significance of the simple linear regression\n",
    "\n",
    "#degrees of freedom of MSR\n",
    "dfn = 1\n",
    "\n",
    "#degrees of freedom of MSE\n",
    "dfd = len(y) - 2\n",
    "\n",
    "MSE = SSE / dfd\n",
    "\n",
    "#variance ratio\n",
    "vr = SSR / MSE\n",
    "\n",
    "\n",
    "#p-value\n",
    "p_val = 1 - f.cdf(vr, dfn, dfd)\n",
    "print(\"Testing the significance of the slope of the linear regression\")\n",
    "print(\"F-value: {0:.3f}, p-value: {1:.3e}\".format(vr, p_val))"
   ]
  },
  {
   "cell_type": "markdown",
   "metadata": {},
   "source": [
    "### Testing the hypothesis that $\\beta = \\beta_0$\n",
    "We may wish to test whether the true slope is a particular value and/or give a confidence interval for the true slope. $\\hat{\\beta}$ comes from a normal distribution with mean $\\beta$ and variance $\\sigma^2 / Sxx$. To test the null hypothesis $\\beta = \\beta_0$ we calculate $t$ as follows:\n",
    "$$t = \\frac{\\hat{\\beta} - \\beta}{\\sqrt{\\frac{MSE}{Sxx}}}\\: on \\:(n - 2) \\:df$$\n",
    "$\\sqrt{\\frac{MSE}{Sxx}}$ is called the **standard error of $\\hat{\\beta}$**. Let's test the hypothesis that $\\beta = 0$ (note that in this case $t^2 = VR$ so the F-test and the t-test are equivalent):"
   ]
  },
  {
   "cell_type": "code",
   "execution_count": null,
   "metadata": {},
   "outputs": [
    {
     "name": "stdout",
     "output_type": "stream",
     "text": [
      "t-value: -5.093, p-value: 7.599e-05\n"
     ]
    }
   ],
   "source": [
    "#calculation of the standard error of b\n",
    "SE_b = sqrt(MSE / Sxx)\n",
    "\n",
    "#calculation of t-value\n",
    "t_val =  b / SE_b\n",
    "\n",
    "#calculation of p-value\n",
    "p_val = 2 * (1 - t.cdf(abs(t_val), df=len(y) - 2))\n",
    "\n",
    "print(\"t-value: {0:.3f}, p-value: {1:.3e}\".format(t_val, p_val))"
   ]
  },
  {
   "cell_type": "markdown",
   "metadata": {},
   "source": [
    "### Confidence interval for $\\beta$\n",
    "A 95 % confidence interval for $\\beta$ is $\\hat{\\beta} \\pm t_{(n-2, \\: 2.5\\%)} \\times SE \\: of \\: \\hat{\\beta}$."
   ]
  },
  {
   "cell_type": "code",
   "execution_count": null,
   "metadata": {},
   "outputs": [
    {
     "name": "stdout",
     "output_type": "stream",
     "text": [
      "95 % CI for beta: (-1.359e+00, -3.268e+00)\n"
     ]
    }
   ],
   "source": [
    "#95 % confidence interval for b\n",
    "ci = [b - t.ppf(0.025, df=len(y) - 2) * SE_b, b + t.ppf(0.025, df=len(y) - 2) * SE_b]\n",
    "print(\"95 % CI for beta: ({0:.3e}, {1:.3e})\".format(ci[0], ci[1]))"
   ]
  },
  {
   "cell_type": "markdown",
   "metadata": {},
   "source": [
    "### Use of the fitted line for prediction\n",
    "The predicted $Y$ for $X_0$ is $\\hat{Y} = \\hat{\\alpha} + \\hat{\\beta}X$. Here, we are predicting the **population mean of possible $Y$ values which could be observed for $X_0$**. The standard error of this predicted mean is:\n",
    "$$SE \\: of \\: predicted \\: mean \\: = \\sqrt{MSE(\\frac{1}{n} + \\frac{(X_0 - \\bar{X})^2}{Sxx})}$$\n",
    "\n",
    "We can see that the standard error and hence the width of the confidence interval is smallest when $X_0$ is equal to the mean of $X$ values."
   ]
  },
  {
   "cell_type": "code",
   "execution_count": null,
   "metadata": {},
   "outputs": [
    {
     "data": {
      "image/png": "[encoded data removed]",
      "text/plain": [
       "<Figure size 432x288 with 1 Axes>"
      ]
     },
     "metadata": {
      "needs_background": "light"
     },
     "output_type": "display_data"
    }
   ],
   "source": [
    "#calculate confidence interval values for fitted Y values\n",
    "x_val = np.linspace(min(x), max(x), 200)\n",
    "y_fit = np.array([a + b * i for i in x_val])\n",
    "ci_lo = np.zeros(len(x_val))\n",
    "ci_hi = np.zeros(len(x_val))\n",
    "for i in range(len(x_val)):\n",
    "    ci_lo[i] = y_fit[i] + t.ppf(0.025, df=len(y) - 2) * sqrt(MSE * (1 / len(y) + (x_val[i] - np.mean(x)) ** 2 / Sxx))\n",
    "    ci_hi[i] = y_fit[i] + t.ppf(0.975, df=len(y) - 2) * sqrt(MSE * (1 / len(y) + (x_val[i] - np.mean(x)) ** 2 / Sxx))\n",
    "\n",
    "#plot linear regression with confidence interval on fitted Y values\n",
    "fig, ax = plt.subplots()\n",
    "ax.scatter(x, y, color=\"C0\", label=\"experimental points\")\n",
    "ax.plot(x, y_hat, color=\"C3\", label=\"regression line\")\n",
    "ax.plot(x_val, ci_lo, color=\"black\", linestyle=\"--\", linewidth=0.5, label=\"95% CI\")\n",
    "ax.plot(x_val, ci_hi, color=\"black\", linestyle=\"--\", linewidth=0.5)\n",
    "ax.set_xlabel(\"x\")\n",
    "ax.set_ylabel(\"y\")\n",
    "ax.set_title(\"Linear regression of y on x\")\n",
    "#ax.set_xlim(-1, 101)\n",
    "#ax.set_ylim(-1, 22)\n",
    "ax.legend()\n",
    "plt.show()"
   ]
  },
  {
   "cell_type": "markdown",
   "metadata": {},
   "source": [
    "To predict a **single new $Y$ value for a given $X$ value** the estimate is the same as above, i.e. $\\hat{Y} = \\hat{\\alpha} + \\hat{\\beta} * X$ but the standard error is now higher because of the added **uncertainty of predicting a single value based on several observations**:\n",
    "$$SE \\: of \\: predicted \\: Y \\: = \\sqrt{MSE(1 + \\frac{1}{n} + \\frac{(X_0 - \\bar{X})^2}{Sxx})}$$\n",
    "\n",
    "### Standard error of the intercept\n",
    "The intercept is the $Y$ value for $X_0 = 0$ so the above formula becomes:\n",
    "$$SE \\: of \\: intercept \\: = \\sqrt{MSE(\\frac{1}{n} + \\frac{\\bar{X}^2}{Sxx})}$$\n",
    "To test whether the true intercept could be zero we calculate:\n",
    "$$t = \\frac{\\hat{\\alpha}}{SE \\: of \\: \\hat{\\alpha}} \\: on \\: n - 2 \\: df$$"
   ]
  },
  {
   "cell_type": "code",
   "execution_count": null,
   "metadata": {},
   "outputs": [
    {
     "name": "stdout",
     "output_type": "stream",
     "text": [
      "Null hypothesis: intercept = 0\n",
      "t-value: 0.610, p-value: 5.498e-01\n"
     ]
    }
   ],
   "source": [
    "#test whether intercept is significantly different from zero\n",
    "t_val_a = a / sqrt(MSE * (1 / len(y) + np.mean(x) ** 2 / Sxx))\n",
    "p_val = 2 * (1 - t.cdf(abs(t_val_a), df=len(y) - 2))\n",
    "print(\"Null hypothesis: intercept = 0\")\n",
    "print(\"t-value: {0:.3f}, p-value: {1:.3e}\".format(t_val_a, p_val))"
   ]
  },
  {
   "cell_type": "markdown",
   "metadata": {},
   "source": [
    "### Testing the significance of the correlation coefficient\n",
    "We perform a t-test of the null hypothesis that the population correlation coefficient $\\rho$ is zero. The formula is:\n",
    "$$t = r \\frac{\\sqrt{n - 2}}{\\sqrt{1 - r^2}} \\: on \\: (n - 2) \\: df$$\n",
    "where $n$ is the number of $(X,\\:Y)$ pairs."
   ]
  },
  {
   "cell_type": "code",
   "execution_count": null,
   "metadata": {},
   "outputs": [
    {
     "name": "stdout",
     "output_type": "stream",
     "text": [
      "t-test of H0: r = 0\n",
      "t-value = 5.093, p-value = 7.599e-05\n"
     ]
    }
   ],
   "source": [
    "#t-test on correlation coefficient\n",
    "t_val = abs(r) * sqrt(len(y) - 2) / sqrt(1 - r ** 2)\n",
    "p_val = 2 * (1 - t.cdf(t_val, df=len(y) - 2))\n",
    "print(\"t-test of H0: r = 0\\nt-value = {0:.3f}, p-value = {1:.3e}\".format(t_val, p_val))"
   ]
  },
  {
   "cell_type": "code",
   "execution_count": null,
   "metadata": {},
   "outputs": [],
   "source": [
    "#putting it all together in a function which verifies assumptions, performs linear regression\n",
    "#and tests significance of the estimated parameters\n",
    "\n",
    "def linear_model(x, y):\n",
    "    \"\"\"Perform a linear regression of Y on X\"\"\"\n",
    "    #corrected sum of products Sxy\n",
    "    Sxy = np.sum(x * y) - np.sum(x) * np.sum(y) / len(x)\n",
    "\n",
    "    #corrected sum of squares of X\n",
    "    Sxx = np.sum(x ** 2) - np.sum(x) ** 2 / len(x)\n",
    "\n",
    "    #calculation of the parameters of the regression line y = a + b * x\n",
    "    b = Sxy / Sxx\n",
    "    a = np.mean(y) - b * np.mean(x)\n",
    "    \n",
    "    #calculate fitted y values\n",
    "    y_hat = np.array([a + b * i for i in x])\n",
    "    \n",
    "    #calculation of residuals\n",
    "    resid = np.zeros(len(y))\n",
    "    for i in range(len(y)):\n",
    "        resid[i] = y[i] - y_hat[i]\n",
    "\n",
    "    print(\"Verification of the assumptions of the linear regression\\n\")\n",
    "    #plotting of residuals\n",
    "    fig, ((ax0, ax1), (ax2, _)) = plt.subplots(nrows=2, ncols=2)\n",
    "    fig.delaxes(_)\n",
    "    plt.subplots_adjust(wspace=0.5, hspace=0.8)\n",
    "    ax0.hist(resid)\n",
    "    ax0.set_xlabel(\"Residuals\")\n",
    "    ax0.set_ylabel(\"Frequency\")\n",
    "    ax0.set_title(\"Histogram of residuals\")\n",
    "    probplot(resid, plot=ax1)\n",
    "    ax1.set_xlabel(\"Normal score\")\n",
    "    ax1.set_ylabel(\"Residuals\")\n",
    "    ax1.set_title(\"Q-Q plot of residuals\")\n",
    "    ax2.scatter(y_hat, resid)\n",
    "    ax2.set_xlabel(\"Fitted values\")\n",
    "    ax2.set_ylabel(\"Residuals\")\n",
    "    ax2.set_title(\"Residuals VS fitted values\")\n",
    "    ax2.axhline(y=0, linewidth=0.5, color=\"grey\")\n",
    "    plt.show()\n",
    "    \n",
    "    #calculation of R-sq\n",
    "    SSE = np.sum((y - y_hat) ** 2)\n",
    "    SSR = np.sum((y_hat - np.mean(y)) ** 2)\n",
    "    Rsq = SSR / (SSE + SSR)\n",
    "    \n",
    "    #calculation of adjusted R-sq\n",
    "    #total mean square\n",
    "    tms = np.sum((y - np.mean(y)) ** 2) / (len(y) - 1)\n",
    "    Rsq_adj = (tms - SSE / (len(y) - 2)) / tms\n",
    "    \n",
    "    #testing null hypothesis that b = 0\n",
    "    #degrees of freedom of MSE\n",
    "    dfd = len(y) - 2\n",
    "    MSE = SSE / dfd\n",
    "    #calculation of the standard error of b\n",
    "    SE_b = sqrt(MSE / Sxx)\n",
    "    #calculation of t-value\n",
    "    t_val_b =  abs(b / SE_b)\n",
    "    #calculation of p-value\n",
    "    p_val_b = 2 * (1 - t.cdf(abs(t_val_b), df=dfd))\n",
    "    \n",
    "    #testing the significance of the regression (analysis of variance)\n",
    "    #degrees of freedom of MSR\n",
    "    dfn = 1\n",
    "    #variance ratio\n",
    "    MSR = SSR / 1\n",
    "    vr = MSR / MSE\n",
    "    #p-value\n",
    "    p_val_f = 1 - f.cdf(vr, dfn, dfd)\n",
    "    \n",
    "    #test whether intercept is significantly different from zero\n",
    "    SE_a = sqrt(MSE * (1 / len(y) + np.mean(x) ** 2 / Sxx))\n",
    "    t_val_a = abs(a / SE_a)\n",
    "    p_val_a = 2 * (1 - t.cdf(abs(t_val_a), df=dfd))\n",
    "    \n",
    "    #calculate confidence interval values for fitted Y values\n",
    "    x_val = np.linspace(min(x), max(x), 200)\n",
    "    y_fit = np.array([a + b * i for i in x_val])\n",
    "    ci_lo = np.zeros(len(x_val))\n",
    "    ci_hi = np.zeros(len(x_val))\n",
    "    for i in range(len(x_val)):\n",
    "        ci_lo[i] = y_fit[i] + t.ppf(0.025, df=len(y) - 2) * sqrt(MSE * (1 / len(y) + (x_val[i] - np.mean(x)) ** 2 / Sxx))\n",
    "        ci_hi[i] = y_fit[i] + t.ppf(0.975, df=len(y) - 2) * sqrt(MSE * (1 / len(y) + (x_val[i] - np.mean(x)) ** 2 / Sxx))\n",
    "\n",
    "    #plot linear regression with confidence interval on fitted Y values\n",
    "    fig, ax = plt.subplots()\n",
    "    ax.scatter(x, y, color=\"C0\", label=\"experimental points\")\n",
    "    ax.plot(x, y_hat, color=\"C3\", label=\"regression line\")\n",
    "    ax.plot(x_val, ci_lo, color=\"black\", linestyle=\"--\", linewidth=0.5, label=\"95% CI\")\n",
    "    ax.plot(x_val, ci_hi, color=\"black\", linestyle=\"--\", linewidth=0.5)\n",
    "    ax.set_xlabel(\"x\")\n",
    "    ax.set_ylabel(\"y\")\n",
    "    ax.set_title(\"Linear regression of y on x\")\n",
    "    #ax.set_xlim(-1, 101)\n",
    "    #ax.set_ylim(-1, 22)\n",
    "    ax.legend()\n",
    "    plt.show()\n",
    "    \n",
    "    print(\"The regression equation is\")\n",
    "    print(\"Y = {0:.3f} {1:+.3f} * X\\n\".format(a, b))\n",
    "    print(\"{0:11}{1:>10}{2:>10}{3:>10}{4:>10}\".format(\"\", \"Coef\", \"StDev\", \"t-value\", \"p-value\"))\n",
    "    print(\"{0:11}{1:10.4f}{2:10.4f}{3:10.4f}{4:10.5f}\".format(\"Intercept\", a, SE_a, t_val_a, p_val_a))\n",
    "    print(\"{0:11}{1:10.4f}{2:10.4f}{3:10.4f}{4:10.5f}\\n\".format(\"Slope\", b, SE_b, t_val_b, p_val_b))\n",
    "    print(\"R-sq = {0:.1f}%, R-sq(adj) = {1:.1f}%\\n\".format(Rsq*100, Rsq_adj*100))\n",
    "    print(\"Analysis of variance\")\n",
    "    print(\"{0:15}{1:>10}{2:>10}{3:>10}{4:>10}{5:>10}\".format(\"Source\", \"df\", \"Sum sq\", \"Mean sq\", \"F-value\", \"p-value\"))\n",
    "    print(\"{0:15}{1:10}{2:10.2f}{3:10.2f}{4:10.3f}{5:10.5f}\".format(\"Regression\", 1, SSR, MSR, vr, p_val_f))\n",
    "    print(\"{0:15}{1:10}{2:10.2f}{3:10.2f}\".format(\"Residual error\", dfd, SSE, MSE))\n",
    "    print(\"{0:15}{1:10}{2:10.2f}\\n\".format(\"Total\", dfd + 1, SSR + SSE))"
   ]
  },
  {
   "cell_type": "code",
   "execution_count": null,
   "metadata": {},
   "outputs": [],
   "source": [
    "linear_model(x, y)"
   ]
  }
 ],
 "metadata": {
  "kernelspec": {
   "display_name": "Python 3",
   "language": "python",
   "name": "python3"
  },
  "language_info": {
   "codemirror_mode": {
    "name": "ipython",
    "version": 3
   },
   "file_extension": ".py",
   "mimetype": "text/x-python",
   "name": "python",
   "nbconvert_exporter": "python",
   "pygments_lexer": "ipython3",
   "version": "3.7.1"
  }
 },
 "nbformat": 4,
 "nbformat_minor": 2
}
