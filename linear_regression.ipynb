{
 "cells": [
  {
   "cell_type": "markdown",
   "metadata": {},
   "source": [
    "# Linear regression and correlation\n",
    "Study of simultaneous change in two or more variables can be carried out using techniques of regression and correlation. A regression equation is a mathematical relationship which can be used to determine the expected value of a **dependent** (or **response**) variable $X$ for a given value of a correlated **independent** (or **predictor**) variable $Y$.\n",
    "\n",
    "## The least square regression line and its estimation\n",
    "Linear regression aims at finding parameters $\\alpha$ and $\\beta$ such that X and Y are connected by a linear relationship: $$Y = \\alpha + \\beta X$$\n",
    "The method almost universally used to calculate estimates of $\\alpha$ and $\\beta$ with a set of $n (X, Y)$ is the **method of least squares**. With this method, parameters of the linear regression of Y on X are calculated so that the sum of the squares of the deviations between the points and the regression line (called **residuals**) are minimized. The parameters are calculated as follows: \n",
    "$$\\hat{\\beta} = \\frac{Sxy}{Sxx}$$ \n",
    "$$\\hat{\\alpha} = \\bar{Y} - \\hat{\\beta} \\bar{X}$$\n",
    "\n",
    "$Sxy$ is the **corrected sum of products**: $$\\sum (X - \\bar{X})(Y - \\bar{Y}) = \\sum(XY) - \\frac{(\\sum X)(\\sum Y)}{n}$$\n",
    "$Sxx$ is the **corrected sum of squares of $X$ values**: $$\\sum (X - \\bar{X})^2 = \\sum X^2 - \\frac{(\\sum X)^2}{n}$$\n",
    "\n",
    "Thus the equation of the **fitted line** is $$\\hat{Y} = \\hat{\\alpha} + \\hat{\\beta}X$$\n",
    "$\\hat{Y}$ is the fitted (expected) value for a given $X$ value.\n",
    "\n",
    "Let's generate random linearly correlated values and calculate the regression line."
   ]
  },
  {
   "cell_type": "code",
   "execution_count": 1,
   "metadata": {},
   "outputs": [],
   "source": [
    "import numpy as np\n",
    "import matplotlib.pyplot as plt\n",
    "import seaborn as sns\n",
    "sns.set()\n",
    "from math import sqrt\n",
    "from scipy.stats import f, t"
   ]
  },
  {
   "cell_type": "code",
   "execution_count": 19,
   "metadata": {},
   "outputs": [
    {
     "data": {
      "image/png": "[encoded data removed]",
      "text/plain": [
       "<matplotlib.figure.Figure at 0x16f8246e320>"
      ]
     },
     "metadata": {},
     "output_type": "display_data"
    }
   ],
   "source": [
    "#uniformly distributed random values between 0 and 10\n",
    "x = np.random.uniform(1, 100, size=20)\n",
    "#x = np.array([0, 25, 50, 75, 100, 125])\n",
    "\n",
    "#y values linearly correlated to x with a normal \"noise\" with standard deviation of 2\n",
    "y = np.array([i * -2 + 10 + np.random.normal() * 40 for i in x])\n",
    "#y = np.array([3.7, 4.45, 4.75, 5.2, 5.15, 4.95])\n",
    "\n",
    "#corrected sum of products Sxy\n",
    "Sxy = np.sum(x * y) - np.sum(x) * np.sum(y) / len(x)\n",
    "\n",
    "#corrected sum of squares of X\n",
    "Sxx = np.sum(x ** 2) - np.sum(x) ** 2 / len(x)\n",
    "\n",
    "#calculation of the parameters of the regression line y = a * x + b\n",
    "b = Sxy / Sxx\n",
    "a = np.mean(y) - b * np.mean(x)\n",
    "\n",
    "#calculate fitted y values\n",
    "y_hat = np.array([a + b * i for i in x])\n",
    "\n",
    "#plot values\n",
    "fig, ax = plt.subplots()\n",
    "ax.scatter(x, y, color=\"C0\", label=\"experimental points\")\n",
    "ax.plot(x, y_hat, color=\"C3\", label=\"regression line\")\n",
    "ax.set_xlabel(\"x\")\n",
    "ax.set_ylabel(\"y\")\n",
    "ax.set_title(\"Linear regression of y on x\")\n",
    "#ax.set_xlim(-1, 101)\n",
    "#ax.set_ylim(-1, 22)\n",
    "ax.legend()\n",
    "plt.show()"
   ]
  },
  {
   "cell_type": "markdown",
   "metadata": {},
   "source": [
    "## The goodness of fit\n",
    "For each observed $(X, Y)$ pair the **residual** is the observed Y-value minus the fitted Y-value: $residual = Y - \\hat{Y}$. Examination of the residuals allows to investigate the adequacy of the model. The **sum of squared residuals** (or sum of squared errors, because they represent the error between the actual and fitted values) is $$SSE = \\sum(Y - \\hat{Y}) ^2$$\n",
    "The **regression sum of squares** is $$SSR = \\sum(\\hat{Y} - \\bar{Y}) ^2$$\n",
    "By dividing SSR by SSE + SSR we can measure the **goodness of fit** of the points to a straight line. When the fit is perfect SSE is 0 so this ratio is equal to 1. $$R^2 = \\frac{SSR}{SSE + SSR}$$\n",
    "$R^2$ is the proportion of the variation in y values accounted for by the linear regression model."
   ]
  },
  {
   "cell_type": "code",
   "execution_count": 20,
   "metadata": {},
   "outputs": [
    {
     "name": "stdout",
     "output_type": "stream",
     "text": [
      "R-square = 0.783\n"
     ]
    }
   ],
   "source": [
    "#calculation of R-sq\n",
    "SSE = np.sum((y - y_hat) ** 2)\n",
    "SSR = np.sum((y_hat - np.mean(y)) ** 2)\n",
    "Rsq = SSR / (SSE + SSR)\n",
    "print(\"R-square = {:.3f}\".format(Rsq))"
   ]
  },
  {
   "cell_type": "markdown",
   "metadata": {},
   "source": [
    "The $R^2$ value is an adequate measure of goodness of fit for simple linear regression when the estimates of $\\alpha$ and $\\beta$ are found by the method of least squares and the assumption of normality and homogeneity of variance are valid (see next section). When more parameters are added to the model, $R^2$ will tend to increase. The adjusted $R^2$ gives a measure of goodness of fit after adjustment for the extra terms in the model. $R^2$ is equal to the difference between the **total mean square** $\\frac{\\sum (Y - \\bar{Y}) ^2}{n - 1}$ and **the residual mean square** $\\frac{SSE}{n - 2}$, divided by the total mean square:\n",
    "$$R^2_{adj} = \\frac{\\frac{\\sum (Y - \\bar{Y}) ^2}{n - 1} - \\frac{SSE}{n-2}}{\\frac{\\sum (Y - \\bar{Y}) ^2}{n - 1}}$$"
   ]
  },
  {
   "cell_type": "code",
   "execution_count": 21,
   "metadata": {},
   "outputs": [
    {
     "name": "stdout",
     "output_type": "stream",
     "text": [
      "Adjusted R-square = 0.771\n"
     ]
    }
   ],
   "source": [
    "#calculation of adjusted R-sq\n",
    "\n",
    "#total mean square\n",
    "tms = np.sum((y - np.mean(y)) ** 2) / (len(y) - 1)\n",
    "\n",
    "rsq_adj = (tms - SSE / (len(y) - 2)) / tms\n",
    "\n",
    "print(\"Adjusted R-square = {:.3f}\".format(rsq_adj))"
   ]
  },
  {
   "cell_type": "markdown",
   "metadata": {},
   "source": [
    "Although $R^2$ measures the extent to which data lie on a straight line it is always positive. A correlation coefficient must lie between $-1$ amd $+1$. It is calculated as the square root of $R^2$ and given a positive sign if $\\hat{\\beta} is positive."
   ]
  },
  {
   "cell_type": "code",
   "execution_count": 22,
   "metadata": {},
   "outputs": [
    {
     "name": "stdout",
     "output_type": "stream",
     "text": [
      "Correlation coefficient r = -0.885\n"
     ]
    }
   ],
   "source": [
    "#calculation of the correlation coefficient\n",
    "r = sqrt(Rsq) * b / abs(b)\n",
    "print(\"Correlation coefficient r = {:.3f}\".format(r))"
   ]
  },
  {
   "cell_type": "markdown",
   "metadata": {},
   "source": [
    "## Assumptions, hypothesis tests and confidence intervals for simple linear regression\n",
    "The main assumption behind linear regression is that for each observed X value, the corresponding observed Y value is taken at random from a normal distribution with mean $\\alpha + \\beta X$ and variance $\\sigma ^ 2$. As X increases, the means of these normal distributions lie on a straight line, and each distribution has the same variance $\\sigma ^ 2$. One problem in many scientific studies is that for a given X we only observe one Y value, which could be far from $\\alpha + \\beta X$. In mathematical terms: $$Y = \\alpha + \\beta X + \\epsilon$$ with $\\epsilon$ a value from the normal distribution with mean 0 and variance $\\sigma ^ 2$. The values of $\\epsilon$ are estimated by the residuals $Y - \\hat{Y}$, so an analysis of these residuals can be used to test the assumptions of the model.\n",
    "\n",
    "Given the above assumptions, the best estimate of $\\sigma ^ 2$ was actually presented above, the **mean square error** \n",
    "$$MSE = \\sigma ^ 2 = \\frac{SSE}{n - 2}$$.\n",
    "The **residual degrees of freedom** $n - 2$ are calculated this way because we have estimated two parameters: $\\alpha$ and $\\beta$.\n",
    "\n",
    "### Testing the significance of the linear regression\n",
    "To test whether there is a significant linear regression we set up $H_0 : \\beta= 0$. To test $H_0$, we calculate the **variance ratio** by dividing the **mean square regression** $MSR = \\frac{SSR}{1}$ (because $SSR$ has $1$ degree of freedom) by $MSE$ and then we compare $VR$ to the critical value for an $F$-distribution with (1, n-2) degrees of freedom: $$VR = \\frac{MSR}{MSE}$$"
   ]
  },
  {
   "cell_type": "code",
   "execution_count": 34,
   "metadata": {},
   "outputs": [
    {
     "name": "stdout",
     "output_type": "stream",
     "text": [
      "Testing the significance of the slope of the linear regression\n",
      "F-value: 65.094, p-value: 2.172e-07\n"
     ]
    }
   ],
   "source": [
    "#test of the significance of the simple linear regression\n",
    "\n",
    "#degrees of freedom of MSR\n",
    "dfn = 1\n",
    "\n",
    "#degrees of freedom of MSE\n",
    "dfd = len(y) - 2\n",
    "\n",
    "MSE = SSE / dfd\n",
    "\n",
    "#variance ratio\n",
    "vr = SSR / MSE\n",
    "\n",
    "\n",
    "#p-value\n",
    "p_val = 1 - f.cdf(vr, dfn, dfd)\n",
    "print(\"Testing the significance of the slope of the linear regression\")\n",
    "print(\"F-value: {0:.3f}, p-value: {1:.3e}\".format(vr, p_val))"
   ]
  },
  {
   "cell_type": "markdown",
   "metadata": {},
   "source": [
    "### Testing the hypothesis that $\\beta = \\beta_0$\n",
    "We may wish to test whether the true slope is a particular value and/or give a confidence interval for the true slope. $\\hat{\\beta}$ comes from a normal distribution with mean $\\beta$ and variance $\\sigma^2 / Sxx$. To test the null hypothesis $\\beta = \\beta_0$ we calculate $t$ as follows:\n",
    "$$t = \\frac{\\hat{\\beta} - \\beta}{\\sqrt{\\frac{MSE}{Sxx}}}\\: on \\:(n - 2) \\:df$$\n",
    "$\\sqrt{\\frac{MSE}{Sxx}}$ is called the **standard error of $\\hat{\\beta}$**. Let's test the hypothesis that $\\beta = 0$ (note that in this case $t^2 = VR$ so the F-test and the t-test are equivalent):"
   ]
  },
  {
   "cell_type": "code",
   "execution_count": 35,
   "metadata": {},
   "outputs": [
    {
     "name": "stdout",
     "output_type": "stream",
     "text": [
      "t-value: -8.068, p-value: 2.172e-07\n"
     ]
    }
   ],
   "source": [
    "#calculation of the standard error of b\n",
    "SE_b = sqrt(MSE / Sxx)\n",
    "\n",
    "#calculation of t-value\n",
    "t_val =  b / SE_b\n",
    "\n",
    "#calculation of p-value\n",
    "p_val = 2 * (1 - t.cdf(abs(t_val), df=len(y) - 2))\n",
    "\n",
    "print(\"t-value: {0:.3f}, p-value: {1:.3e}\".format(t_val, p_val))"
   ]
  },
  {
   "cell_type": "markdown",
   "metadata": {},
   "source": [
    "### Confidence interval for $\\beta$\n",
    "A 95 % confidence interval for $\\beta$ is $\\hat{\\beta} \\pm t_{(n-2, \\: 2.5\\%)} \\times SE \\: of \\: \\hat{\\beta}$."
   ]
  },
  {
   "cell_type": "code",
   "execution_count": null,
   "metadata": {},
   "outputs": [],
   "source": [
    "#95 % confidence interval for b\n",
    "ci = [b - t.ppf(0.025, df=len(y) - 2) * SE_b, b + t.ppf(0.975, df=len(y) - 2) * SE_b]\n",
    "print(\"95 % CI for beta: ({0:.3f}, {1:.3f})\".format(ci[0], ci[1]))"
   ]
  },
  {
   "cell_type": "markdown",
   "metadata": {},
   "source": [
    "### Use of the fitted line for prediction\n",
    "The predicted $Y$ for $X_0$ is $\\hat{Y} = \\hat{\\alpha} + \\hat{\\beta}X$. Here, we are predicting the population mean of possible $Y$ values which could be observed for $X_0$. The standard error of this predicted mean is:\n",
    "$$SE \\: of \\: predicted \\: mean \\: = \\sqrt{MSE(\\frac{1}{n} + \\frac{(X_0 - \\bar{X})^2}{Sxx})}$$\n",
    "We can see that the standard error and hence the width of the confidence interval is smallest when $X_0$ is equal to the mean of $X$ values."
   ]
  },
  {
   "cell_type": "code",
   "execution_count": 44,
   "metadata": {},
   "outputs": [
    {
     "data": {
      "image/png": "[encoded data removed]",
      "text/plain": [
       "<matplotlib.figure.Figure at 0x16f82825d30>"
      ]
     },
     "metadata": {},
     "output_type": "display_data"
    }
   ],
   "source": [
    "#calculate confidence interval values for fitted Y values\n",
    "x_val = np.linspace(min(x), max(x), 200)\n",
    "y_fit = np.array([a + b * i for i in x_val])\n",
    "ci_lo = np.zeros(len(x_val))\n",
    "ci_hi = np.zeros(len(x_val))\n",
    "for i in range(len(x_val)):\n",
    "    ci_lo[i] = y_fit[i] + t.ppf(0.025, df=len(y) - 2) * sqrt(MSE * (1 / len(y) + (x_val[i] - np.mean(x)) ** 2 / Sxx))\n",
    "    ci_hi[i] = y_fit[i] + t.ppf(0.975, df=len(y) - 2) * sqrt(MSE * (1 / len(y) + (x_val[i] - np.mean(x)) ** 2 / Sxx))\n",
    "\n",
    "#plot linear regression with confidence interval on fitted Y values\n",
    "fig, ax = plt.subplots()\n",
    "ax.scatter(x, y, color=\"C0\", label=\"experimental points\")\n",
    "ax.plot(x, y_hat, color=\"C3\", label=\"regression line\")\n",
    "ax.plot(x_val, ci_lo, color=\"black\", linestyle=\"--\", linewidth=0.5, label=\"95% CI\")\n",
    "ax.plot(x_val, ci_hi, color=\"black\", linestyle=\"--\", linewidth=0.5)\n",
    "ax.set_xlabel(\"x\")\n",
    "ax.set_ylabel(\"y\")\n",
    "ax.set_title(\"Linear regression of y on x\")\n",
    "#ax.set_xlim(-1, 101)\n",
    "#ax.set_ylim(-1, 22)\n",
    "ax.legend()\n",
    "plt.show()"
   ]
  }
 ],
 "metadata": {
  "kernelspec": {
   "display_name": "Python 3",
   "language": "python",
   "name": "python3"
  },
  "language_info": {
   "codemirror_mode": {
    "name": "ipython",
    "version": 3
   },
   "file_extension": ".py",
   "mimetype": "text/x-python",
   "name": "python",
   "nbconvert_exporter": "python",
   "pygments_lexer": "ipython3",
   "version": "3.5.2"
  }
 },
 "nbformat": 4,
 "nbformat_minor": 2
}
