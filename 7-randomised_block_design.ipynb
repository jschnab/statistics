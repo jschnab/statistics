{
 "cells": [
  {
   "cell_type": "markdown",
   "metadata": {},
   "source": [
    "# The randomised block design\n",
    "\n",
    "## 1. Introduction\n",
    "\n",
    "The principal disadvantage of the completely randomised design (CRD) appears if it used in an experiment with factors on an experimental site which is not uniform. A particular factor can be assigned by chance to locations which have special properties and a false conclusion may be made about the response to the factors. \n",
    "\n",
    "This disadvantage can be overcome by using blocking. If there is a systemic variation in the experimental conditions across the experimental site with the existence of a gradient of experimental conditions, we can divide the experimental area into blocks at right angles to the gradient. For example, to compare five factors using six replications per factor, we could form six blocks each consisting of five equal sized experimental area. \n",
    "\n",
    "This experimental design is called the **randomised block design** (RBD), sometimes the *randomised complete block design* since each block contains the complete set of factors. \n",
    "\n",
    "As each factor occurs once per block, factors can be compared within blocks, so block-to-block (gradient) does not affect factor comparisons. The advantage of RBD over CRD depends on the within-block variation being smaller than block-to-block variation. Ideally, on should have acquired knowledge of the experimental site in order to ensure that blocks are positioned correctly. If blocks are formed without using information on experimental site variation, variation within blocks could be greater than variation between blocks. In this case blocking will be unsuccessful and factors will be compared with less precision than if a CRD had been used. If the site is uniform, a CRD should be used because the loss of the residual degrees of freedom due to blocks will not be compensated by the reduction of error variance.\n",
    "\n",
    "Disadvantagesof blocking are:\n",
    "* missing values cause differences between factors to be partly due to block differences\n",
    "* if the number of factors is important, finding block that are big enough to accomodate all factors can be impossible (in this case use the incomplete block design)\n",
    "\n",
    "## 2. An example with analysis ignoring blocks\n",
    "\n",
    "Suppose we want to compare three new wheat varieties ($V_2$, $V_3$ and $V_4$) with a standard variety ($V_1$). The experimental area could be divided into three blocks each containing four plots of equal size. In practice we should use more than three blocks but we use a simplified example."
   ]
  },
  {
   "cell_type": "code",
   "execution_count": 49,
   "metadata": {},
   "outputs": [],
   "source": [
    "#import modules\n",
    "import pandas as pd\n",
    "import numpy as np\n",
    "import matplotlib.pyplot as plt\n",
    "from scipy.stats import f_oneway\n",
    "from scipy.stats import probplot\n",
    "from scipy.stats import shapiro\n",
    "from scipy.stats import levene\n",
    "from scipy.stats import t\n",
    "from scipy.stats import f\n",
    "from math import ceil"
   ]
  },
  {
   "cell_type": "code",
   "execution_count": 2,
   "metadata": {},
   "outputs": [
    {
     "name": "stdout",
     "output_type": "stream",
     "text": [
      "Yields of four wheat varieties\n",
      "          V1   V2   V3   V4\n",
      "Block 1  7.4  9.8  7.3  9.5\n",
      "Block 2  6.5  6.8  6.1  8.0\n",
      "Block 3  5.6  6.2  6.4  7.4 \n",
      "\n",
      "Mean of Block 1 : 8.50\n",
      "Mean of Block 2 : 6.85\n",
      "Mean of Block 3 : 6.40\n",
      "\n",
      "Mean of variety V1 : 6.50\n",
      "Mean of variety V2 : 7.60\n",
      "Mean of variety V3 : 6.60\n",
      "Mean of variety V4 : 8.30\n"
     ]
    }
   ],
   "source": [
    "#generate pandas dataframe\n",
    "df = pd.DataFrame({'V1':[7.4, 6.5, 5.6], \n",
    "                   'V2':[9.8, 6.8, 6.2], \n",
    "                   'V3':[7.3, 6.1, 6.4], \n",
    "                   'V4':[9.5, 8.0, 7.4],\n",
    "                  }, \n",
    "                  index=['Block 1', 'Block 2', 'Block 3'])\n",
    "\n",
    "print('Yields of four wheat varieties')\n",
    "print(df, '\\n')\n",
    "\n",
    "#print block means\n",
    "for block in df.index:\n",
    "    print('Mean of {0} : {1:.2f}'.format(block, df.loc[block].mean()))\n",
    "print()\n",
    "\n",
    "#print variety means\n",
    "for variety in df.columns:\n",
    "    print('Mean of variety {0} : {1:.2f}'.format(variety, df[variety].mean()))"
   ]
  },
  {
   "cell_type": "markdown",
   "metadata": {},
   "source": [
    "Yields decrease from block 1 to block 3 and this could be due to an environmental gradient at right angles to the blocks. Is there sufficient evidence to argue that the new varieties are significantly different from the standard? Let's first analyze the data ignoring blocks."
   ]
  },
  {
   "cell_type": "code",
   "execution_count": 3,
   "metadata": {},
   "outputs": [
    {
     "data": {
      "text/plain": [
       "F_onewayResult(statistic=1.4515599343185546, pvalue=0.2986889963332586)"
      ]
     },
     "execution_count": 3,
     "metadata": {},
     "output_type": "execute_result"
    }
   ],
   "source": [
    "#F-test ignoring blocks\n",
    "f_oneway(df['V1'], df['V2'], df['V3'], df['V4'])"
   ]
  },
  {
   "cell_type": "markdown",
   "metadata": {},
   "source": [
    "This high p-value of 0.3 indicates that in the absence of blocking there is insufficient evidence that the new varieties perform differently from the standard variety."
   ]
  },
  {
   "cell_type": "markdown",
   "metadata": {},
   "source": [
    "## 3. The randomised block model\n",
    "\n",
    "The procedure depends on the assumption that each result is the addition of several effects:\n",
    "* actual value = overall mean + block effect + factor effect + residual\n",
    "* actual value = fitted value + residual\n",
    "* fitted value = overall mean + block effect + factor effect\n",
    "* residual = actual value - fitted value\n",
    "\n",
    "\n",
    "* block effect is estimated by : block mean - grand mean\n",
    "* factor effect is estimated by : factor mean - grand mean\n",
    "\n",
    "\n",
    "* the overall mean is estimated by the grand mean (GM)\n",
    "* the block effect is estimated as BE = block mean - grand mean = BM - GM\n",
    "* the factor effect is estimated as FE = factor mean - grand mean = FM - GM\n",
    "* the fitted value predicted by the model is estimated as F = GM + BE + FE = BM + FM - GM\n",
    "* the residual is the difference between the observed value V and the fitted value F. It is estimated as R = V - F = Y - BM - FM + GM\n",
    "\n",
    "Let's perform an analysis of variance according to this model and F-tests on block and variety."
   ]
  },
  {
   "cell_type": "code",
   "execution_count": 27,
   "metadata": {},
   "outputs": [
    {
     "name": "stdout",
     "output_type": "stream",
     "text": [
      "Analysis of variance\n",
      "Source            df    Sum sq   Mean sq         F   p-value\n",
      "Blocks             2     9.780     4.890    12.225   0.00765\n",
      "Varieties          3     6.630     2.210     5.525   0.03673\n",
      "Error              6     2.400     0.400\n",
      "Total             11    18.810\n",
      "\n",
      "Means\n",
      "Level              N      Mean   Std dev\n",
      "V1                 3     6.500     0.377\n",
      "V2                 3     7.600     0.826\n",
      "V3                 3     6.600     0.606\n",
      "V4                 3     8.300     0.087\n",
      "\n",
      "Shapiro-Wilk test for residuals\n",
      "W = 0.9176, p-value = 0.2666\n"
     ]
    },
    {
     "data": {
      "image/png": "[encoded data removed]",
      "text/plain": [
       "<matplotlib.figure.Figure at 0x1489c474b00>"
      ]
     },
     "metadata": {},
     "output_type": "display_data"
    }
   ],
   "source": [
    "#ANOVA\n",
    "\n",
    "#total experiment size\n",
    "N = df.size\n",
    "\n",
    "#number of blocks\n",
    "n_b = len(df.index)\n",
    "\n",
    "#number of factors\n",
    "n_f = len(df.columns)\n",
    "\n",
    "#total sum of squares\n",
    "total_ss = df.values.flatten().var(ddof=1) * (N - 1)\n",
    "\n",
    "#block sum of squares and mean square\n",
    "block_ss = df.sum(axis=1).std() ** 2 * (n_b - 1) / n_f\n",
    "block_ms = block_ss / (n_b - 1)\n",
    "\n",
    "#factor sum of squares and mean square\n",
    "factor_ss = df.sum().std() ** 2 * (n_f - 1) / n_b\n",
    "factor_ms = factor_ss / (n_f - 1)\n",
    "\n",
    "#residual sum of squares and mean square\n",
    "resid_ss = total_ss - block_ss - factor_ss\n",
    "resid_ms = resid_ss / (n_b - 1) / (n_f - 1)\n",
    "\n",
    "#variety means\n",
    "means = df.mean()\n",
    "\n",
    "#variety standard deviation have to be adjusted for block effects\n",
    "#we first calculate block effects by subtracting the grand mean from block means\n",
    "#we then recalculate the table by subtracting the block effect from values\n",
    "df_adjust = (df.T - (df.mean(axis=1) - df.values.flatten().mean())).T\n",
    "std_devs = df_adjust.std()\n",
    "\n",
    "#residual dataframe\n",
    "df_resid = ((df - df.mean()).T - df.mean(axis=1)).T + df.values.flatten().mean()\n",
    "\n",
    "#fitted dataframe\n",
    "df_fitted = df - df_resid\n",
    "\n",
    "print('Analysis of variance')\n",
    "print('{0:10}{1:>10}{2:>10}{3:>10}{4:>10}{5:>10}'.format('Source', 'df', 'Sum sq', 'Mean sq', 'F', 'p-value'))\n",
    "print('{0:10}{1:>10}{2:>10.3f}{3:>10.3f}{4:>10.3f}{5:>10.5f}'.format('Blocks', \n",
    "                                                                     n_b - 1, \n",
    "                                                                     block_ss, \n",
    "                                                                     block_ms, \n",
    "                                                                     block_ms / resid_ms,\n",
    "                                                                     1 - f.cdf(block_ms / resid_ms, n_b - 1, (n_b-1)*(n_f-1))))\n",
    "print('{0:10}{1:>10}{2:>10.3f}{3:>10.3f}{4:>10.3f}{5:>10.5f}'.format('Varieties', \n",
    "                                                                     n_f - 1, \n",
    "                                                                     factor_ss, \n",
    "                                                                     factor_ms, \n",
    "                                                                     factor_ms / resid_ms,\n",
    "                                                                     1 - f.cdf(factor_ms / resid_ms, n_f - 1, (n_b-1)*(n_f-1))))\n",
    "print('{0:10}{1:>10}{2:>10.3f}{3:>10.3f}'.format('Error', (n_f - 1) * (n_b - 1), resid_ss, resid_ms))\n",
    "print('{0:10}{1:>10}{2:>10.3f}'.format('Total', N - 1, total_ss))\n",
    "print()\n",
    "print('Means')\n",
    "print('{0:10}{1:>10}{2:>10}{3:>10}'.format('Level', 'N', 'Mean', 'Std dev'))\n",
    "for i, variety in enumerate(df.columns):\n",
    "    print('{0:10}{1:>10}{2:>10.3f}{3:>10.3f}'.format(variety, df[variety].count(), df[variety].mean(), std_devs[i]))\n",
    "    \n",
    "print()\n",
    "\n",
    "#testing normality of residuals\n",
    "W, pval = shapiro(df_resid.values.flatten())\n",
    "print('Shapiro-Wilk test for residuals')\n",
    "print('W = {0:.4f}, p-value = {1:.4f}'.format(W, pval))\n",
    "\n",
    "#checking normality of residuals with plot\n",
    "fig, axes = plt.subplots(nrows=2, ncols=2)\n",
    "ax0, ax1, ax2, ax3 = axes.flatten()\n",
    "qq_resid = probplot(df_resid.values.flatten(), plot=ax0)\n",
    "ax0.get_lines()[0].set_markerfacecolor('C0')\n",
    "ax0.get_lines()[0].set_markeredgewidth(0)\n",
    "ax0.get_lines()[1].set_color('C3')\n",
    "ax0.set_title('Normal plot of residuals')\n",
    "\n",
    "ax1.axhline(0, color='grey', lw=1, linestyle='dashed')\n",
    "ax1.plot(list(range(N)), df_resid.values.T.flatten())\n",
    "ax1.set_xlabel('Observation number')\n",
    "ax1.set_ylabel('Residual')\n",
    "ax1.set_title('Chart of residuals')\n",
    "\n",
    "ax2.hist(df_resid.values.flatten())\n",
    "ax2.set_xlabel('Residual')\n",
    "ax2.set_ylabel('Frequency')\n",
    "ax2.set_title('Histogram of residuals')\n",
    "\n",
    "ax3.axhline(0, color='grey', lw=1, linestyle='dashed')\n",
    "ax3.scatter(df_fitted.values.flatten(), df_resid.values.flatten())\n",
    "ax3.set_xlabel('Fit')\n",
    "ax3.set_ylabel('Residual')\n",
    "ax3.set_title('Residuals versus fits')\n",
    "\n",
    "plt.subplots_adjust(hspace=0.8, wspace=0.4)"
   ]
  },
  {
   "cell_type": "markdown",
   "metadata": {},
   "source": [
    "### Confidence intervals\n",
    "\n",
    "A 95% confidence interval for the $\\mu$ is $\\bar{x} \\pm t_{(Rdf, \\thinspace 2.5\\%)} \\times SEM$. In our example, $SEM$ is found by pooling the data from all factors: $$SEM = \\sqrt{\\frac{RMS}{r}}$$. Let's calculate these values."
   ]
  },
  {
   "cell_type": "code",
   "execution_count": 5,
   "metadata": {},
   "outputs": [
    {
     "name": "stdout",
     "output_type": "stream",
     "text": [
      "Checking homoscedasticity :\n",
      "LeveneResult(statistic=0.38935574229691866, pvalue=0.7639802062200832) \n",
      "\n",
      "Confidence interval for sample V1 : 5.607 - 7.393\n",
      "Confidence interval for sample V2 : 6.707 - 8.493\n",
      "Confidence interval for sample V3 : 5.707 - 7.493\n",
      "Confidence interval for sample V4 : 7.407 - 9.193\n"
     ]
    }
   ],
   "source": [
    "#Levene's test to check equality of variance\n",
    "print('Checking homoscedasticity :')\n",
    "print(levene(df['V1'], df['V2'], df['V3'], df['V4']), '\\n')\n",
    "\n",
    "#calculate standard error of the mean\n",
    "sem = np.sqrt(resid_ms / df.count()[0])\n",
    "\n",
    "#residual degrees of freedom\n",
    "Rdf = (n_b - 1) * (n_f - 1)\n",
    "\n",
    "#critical t-values for confidence interval\n",
    "crit_t = [t.ppf(0.025, Rdf), t.ppf(0.975, Rdf)]\n",
    "\n",
    "CI = [[mean + value * sem for value in crit_t] for mean in means]\n",
    "\n",
    "for i, level in enumerate(means.index):\n",
    "    print('Confidence interval for sample {0} : {1:.3f} - {2:.3f}'.format(level, CI[i][0], CI[i][1]))"
   ]
  },
  {
   "cell_type": "code",
   "execution_count": 31,
   "metadata": {},
   "outputs": [],
   "source": [
    "#putting it all together\n",
    "\n",
    "def anova_block(df, xlabel, ylabel):\n",
    "    \"\"\"Perform ANOVA on an experimental design with blocking.\"\"\"\n",
    "    \n",
    "    #total experiment size\n",
    "    N = df.size\n",
    "\n",
    "    #number of blocks\n",
    "    n_b = len(df.index)\n",
    "\n",
    "    #number of factors\n",
    "    n_f = len(df.columns)\n",
    "\n",
    "    #total sum of squares\n",
    "    total_ss = df.values.flatten().var(ddof=1) * (N - 1)\n",
    "\n",
    "    #block sum of squares and mean square\n",
    "    block_ss = df.sum(axis=1).std() ** 2 * (n_b - 1) / n_f\n",
    "    block_ms = block_ss / (n_b - 1)\n",
    "\n",
    "    #factor sum of squares and mean square\n",
    "    factor_ss = df.sum().std() ** 2 * (n_f - 1) / n_b\n",
    "    factor_ms = factor_ss / (n_f - 1)\n",
    "\n",
    "    #residual sum of squares and mean square\n",
    "    resid_ss = total_ss - block_ss - factor_ss\n",
    "    resid_ms = resid_ss / (n_b - 1) / (n_f - 1)\n",
    "\n",
    "    #variety means\n",
    "    means = df.mean()\n",
    "    \n",
    "    #variety standard deviation have to be adjusted for block effects\n",
    "    #we first calculate block effects by subtracting the grand mean from block means\n",
    "    #we then recalculate the table by subtracting the block effect from values\n",
    "    df_adjust = (df.T - (df.mean(axis=1) - df.values.flatten().mean())).T\n",
    "    std_devs = df_adjust.std()\n",
    "\n",
    "    #residual dataframe\n",
    "    df_resid = ((df - df.mean()).T - df.mean(axis=1)).T + df.values.flatten().mean()\n",
    "\n",
    "    #fitted dataframe\n",
    "    df_fitted = df - df_resid\n",
    "\n",
    "    #calculate standard error of the mean\n",
    "    sem = np.sqrt(resid_ms / df.count()[0])\n",
    "\n",
    "    #residual degrees of freedom\n",
    "    Rdf = (n_b - 1) * (n_f - 1)\n",
    "\n",
    "    #critical t-values for confidence interval\n",
    "    crit_t = [t.ppf(0.025, Rdf), t.ppf(0.975, Rdf)]\n",
    "\n",
    "    CI = [[round(mean + value * sem, 3) for value in crit_t] for mean in means]\n",
    "    \n",
    "    print('Analysis of variance\\n')\n",
    "    print('{0:10}{1:>10}{2:>10}{3:>10}{4:>10}{5:>10}'.format('Source', 'df', 'Sum sq', 'Mean sq', 'F', 'p-value'))\n",
    "    print('{0:10}{1:>10}{2:>10.3f}{3:>10.3f}{4:>10.3f}{5:>10.5f}'.format('Blocks', \n",
    "                                                                     n_b - 1, \n",
    "                                                                     block_ss, \n",
    "                                                                     block_ms, \n",
    "                                                                     block_ms / resid_ms,\n",
    "                                                                     1 - f.cdf(block_ms / resid_ms, n_b - 1, (n_b-1)*(n_f-1))))\n",
    "    print('{0:10}{1:>10}{2:>10.3f}{3:>10.3f}{4:>10.3f}{5:>10.5f}'.format('Varieties', \n",
    "                                                                     n_f - 1, \n",
    "                                                                     factor_ss, \n",
    "                                                                     factor_ms, \n",
    "                                                                     factor_ms / resid_ms,\n",
    "                                                                     1 - f.cdf(factor_ms / resid_ms, n_f - 1, (n_b-1)*(n_f-1))))\n",
    "    print('{0:10}{1:>10}{2:>10.3f}{3:>10.3f}'.format('Error', (n_f - 1) * (n_b - 1), resid_ss, resid_ms))\n",
    "    print('{0:10}{1:>10}{2:>10.3f}'.format('Total', N - 1, total_ss))\n",
    "    print()\n",
    "    print('Means')\n",
    "    print('{0:10}{1:>10}{2:>10}{3:>10}{4:>10}{5:>8}'.format('Level', 'N', 'Mean', 'Std dev', '', '95% CI'))\n",
    "    for i, variety in enumerate(df.columns):\n",
    "        print('{0:10}{1:>10}{2:>10.3f}{3:>10.3f}{4:>10} - {5:>5}'.format(variety,\n",
    "                                                                df[variety].count(),\n",
    "                                                                   df[variety].mean(),\n",
    "                                                                   std_devs[i],\n",
    "                                                                   CI[i][0],\n",
    "                                                               CI[i][1]))\n",
    "\n",
    "    print()\n",
    "    \n",
    "    test_levene = levene(df['V1'], df['V2'], df['V3'], df['V4'])\n",
    "    print(\"Levene's test :\")\n",
    "    print('W = {0:.3f}, p-value = {1:.5f}'.format(test_levene[0], test_levene[1]))\n",
    "    \n",
    "    #plot data with confidence intervals\n",
    "    pos = list(range(n_f))\n",
    "    fig, ax = plt.subplots()\n",
    "    for i, col in enumerate(df.columns):\n",
    "        ax.bar(pos[i], np.mean(df[col]), zorder=3, edgecolor='k', linewidth=.5)\n",
    "        ax.errorbar(pos[i], np.mean(df[col]), crit_t[0] * sem, zorder=4, c='k', capsize=5)\n",
    "        \n",
    "    #optimize figure style\n",
    "    ax.set_xticks(pos)\n",
    "    ax.tick_params(axis='x', color='white')\n",
    "    ax.set_xticklabels(df.columns)\n",
    "    for position in ['top', 'right', 'bottom']:\n",
    "        ax.spines[position].set_visible(False)\n",
    "        \n",
    "    #adjust y-axis limits\n",
    "    ax.set_ylim(0, round(max((df.values.flatten()) + max(std_devs)) / 5) * 5)\n",
    "    \n",
    "    #add axes label\n",
    "    ax.set_xlabel(xlabel, fontsize=14)\n",
    "    ax.set_ylabel(ylabel, fontsize=14)\n",
    "    \n",
    "    plt.show()\n",
    "\n",
    "    #testing normality of residuals\n",
    "    W, pval = shapiro(df_resid.values.flatten())\n",
    "    print('Shapiro-Wilk test for residuals')\n",
    "    print('W = {0:.4f}, p-value = {1:.4f}'.format(W, pval))\n",
    "\n",
    "    #checking normality of residuals with plot\n",
    "    fig, axes = plt.subplots(nrows=2, ncols=2)\n",
    "    ax0, ax1, ax2, ax3 = axes.flatten()\n",
    "    qq_resid = probplot(df_resid.values.flatten(), plot=ax0)\n",
    "    ax0.get_lines()[0].set_markerfacecolor('C0')\n",
    "    ax0.get_lines()[0].set_markeredgewidth(0)\n",
    "    ax0.get_lines()[1].set_color('C3')\n",
    "    ax0.set_title('Normal plot of residuals')\n",
    "\n",
    "    ax1.axhline(0, color='grey', lw=1, linestyle='dashed')\n",
    "    ax1.plot(list(range(N)), df_resid.values.T.flatten())\n",
    "    ax1.set_xlabel('Observation number')\n",
    "    ax1.set_ylabel('Residual')\n",
    "    ax1.set_title('Chart of residuals')\n",
    "\n",
    "    ax2.hist(df_resid.values.flatten())\n",
    "    ax2.set_xlabel('Residual')\n",
    "    ax2.set_ylabel('Frequency')\n",
    "    ax2.set_title('Histogram of residuals')\n",
    "\n",
    "    ax3.axhline(0, color='grey', lw=1, linestyle='dashed')\n",
    "    ax3.scatter(df_fitted.values.flatten(), df_resid.values.flatten())\n",
    "    ax3.set_xlabel('Fit')\n",
    "    ax3.set_ylabel('Residual')\n",
    "    ax3.set_title('Residuals versus fits')\n",
    "\n",
    "    plt.subplots_adjust(hspace=0.8, wspace=0.4)\n",
    "    \n",
    "    plt.show()"
   ]
  },
  {
   "cell_type": "code",
   "execution_count": 32,
   "metadata": {},
   "outputs": [
    {
     "name": "stdout",
     "output_type": "stream",
     "text": [
      "Analysis of variance\n",
      "\n",
      "Source            df    Sum sq   Mean sq         F   p-value\n",
      "Blocks             2     9.780     4.890    12.225   0.00765\n",
      "Varieties          3     6.630     2.210     5.525   0.03673\n",
      "Error              6     2.400     0.400\n",
      "Total             11    18.810\n",
      "\n",
      "Means\n",
      "Level              N      Mean   Std dev            95% CI\n",
      "V1                 3     6.500     0.377     5.607 - 7.393\n",
      "V2                 3     7.600     0.826     6.707 - 8.493\n",
      "V3                 3     6.600     0.606     5.707 - 7.493\n",
      "V4                 3     8.300     0.087     7.407 - 9.193\n",
      "\n",
      "Levene's test :\n",
      "W = 0.389, p-value = 0.76398\n"
     ]
    },
    {
     "data": {
      "image/png": "[encoded data removed]",
      "text/plain": [
       "<matplotlib.figure.Figure at 0x1489c7df4e0>"
      ]
     },
     "metadata": {},
     "output_type": "display_data"
    },
    {
     "name": "stdout",
     "output_type": "stream",
     "text": [
      "Shapiro-Wilk test for residuals\n",
      "W = 0.9176, p-value = 0.2666\n"
     ]
    },
    {
     "data": {
      "image/png": "[encoded data removed]",
      "text/plain": [
       "<matplotlib.figure.Figure at 0x1489c71c128>"
      ]
     },
     "metadata": {},
     "output_type": "display_data"
    }
   ],
   "source": [
    "anova_block(df, 'variety', 'yield')"
   ]
  },
  {
   "cell_type": "markdown",
   "metadata": {},
   "source": [
    "## 4. How many blocks to use?\n",
    "\n",
    "In our example, there will always be variation between yields of plots treated alike after allowing for the block effects, and this is summarised by the residual mean square(RMS) in the ANOVA table. Its square root is the standard deviation of the residuals. A large value for RMS requires large observed differences in means between levels for a significant VR to be obtained. VR reflects the ratio of the variation in factor means to the residual variation. For a given number of levels, whether VR is significant depends on the number of blocks. The larger the number of blocks, the lower critical F-value is. A rule of thumb is to allow for at least 12 residual degrees of freedom (in field trials).\n",
    "\n",
    "### Detection of a specified difference\n",
    "\n",
    "A new variety will only be recommended if the benefits outweigh the extra cost of using it compared to the standard. We carry out an RBD experiment and $\\delta$ is the minimum difference to be observed between a new variety to be recommended and the standard. How many blocks are necessary such that a difference of $\\delta$ or more is significant at the 5% level? In other words, we want LSD to be less than $\\delta$. We can only provide an estimation since the t-value depends on the number of blocks and the SED depends on the number of blocks and the RMS: \n",
    "$$LSD_{5\\%} = t_{(Rdf, \\thinspace 2.5\\%)} \\times SED = t_{(Rdf, \\thinspace 2.5\\%)} \\times \\sqrt{\\frac{2 \\times \\sigma^2}{r}}$$\n",
    "We want $t \\times SED < \\delta$ so $r > (2 \\times t^2 \\times \\sigma^2)/\\delta^2$\n",
    "\n",
    "Let's suppose $\\delta = 0.8$. t is around 2.0. In our previous experiments $RMS = 0.40$ and this is an estimate of $\\sigma^2$. Let's calculate r."
   ]
  },
  {
   "cell_type": "code",
   "execution_count": 44,
   "metadata": {},
   "outputs": [
    {
     "name": "stdout",
     "output_type": "stream",
     "text": [
      "Minimum number of blocks : 5\n"
     ]
    }
   ],
   "source": [
    "#calculate number of blocks r to detect a difference between varieties of 0.8\n",
    "r = 2 * 2.0 ** 2 * resid_ms / 0.8 ** 2\n",
    "print('Minimum number of blocks : {}'.format(int(r)))"
   ]
  },
  {
   "cell_type": "markdown",
   "metadata": {},
   "source": [
    "This was only an approximation since with 5 blocks and 3 factor levels we have 12 degrees of freedom and the t-value is 2.179. Let's re-calculate r from the more exact t-value and round it to the next integer. We iteratively refine the number of blocks and stop when we find the same value as in the previous calculation. With our example, we find a value of 6 blocks."
   ]
  },
  {
   "cell_type": "code",
   "execution_count": 53,
   "metadata": {},
   "outputs": [
    {
     "name": "stdout",
     "output_type": "stream",
     "text": [
      "Minimum number of blocks : 6\n"
     ]
    }
   ],
   "source": [
    "r = 2 * t.ppf(0.975, 12) ** 2 * resid_ms / 0.8 ** 2\n",
    "print('Minimum number of blocks : {}'.format(ceil(r)))"
   ]
  }
 ],
 "metadata": {
  "kernelspec": {
   "display_name": "Python 3",
   "language": "python",
   "name": "python3"
  },
  "language_info": {
   "codemirror_mode": {
    "name": "ipython",
    "version": 3
   },
   "file_extension": ".py",
   "mimetype": "text/x-python",
   "name": "python",
   "nbconvert_exporter": "python",
   "pygments_lexer": "ipython3",
   "version": "3.5.2"
  }
 },
 "nbformat": 4,
 "nbformat_minor": 2
}
