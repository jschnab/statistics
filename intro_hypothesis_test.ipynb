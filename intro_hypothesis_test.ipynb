{
 "cells": [
  {
   "cell_type": "markdown",
   "metadata": {},
   "source": [
    "# Introduction to hypothesis testing\n",
    "Remember that :\n",
    "* the distribution of sample means $\\bar{x}$ based on samples of size $n$ follows a $t$-distribution with a mean $\\mu$, a standard deviation $\\frac{s}{\\sqrt{n}}$ and $n - 1$ degrees of freedom.\n",
    "* $t = \\frac{\\bar{x} - \\mu}{s / \\sqrt{n}}$ is from a $t$-distribution with a mean of 0, variance of 1 and $n - 1$ degrees of freedom.\n",
    "\n",
    "## The single-sample t-test\n",
    "This is used to test whether the mean $\\mu$ of a normally distributed population is at a specific value $\\mu_0$. The null hypothesis is that the population mean is $\\mu_0$ : $H_0: \\mu = \\mu_0$. The alternative hypothesis is that $\\mu$ is not equal to $\\mu_0$ : $H_1: \\mu \\neq \\mu_0$.\n",
    "\n",
    "To test the null hypothesis, a random sample is taken from the population and the sample mean $\\bar{x}$ and the sample standard deviation $s$ are calculated. The value of $t$ is calculated with the above formula. There is a 95 % chance that $t$ lies between values calculated with the percent point function : $PPF(0.025)$ and $PPF(0.975)$ with $n-1$ degrees of freedom. For a sample of size 10, $PPF(0.025)=-2.262$ and $PPF(0.975)=2.262$ so we reject the null hypothesis if $t < -2.262$ or if $t > 2.262$. This is an example of a **two-tailed test** because before collecting the data we do not know if $\\bar{x}$ will be greater or less than $\\mu_0$. To carry out a **one-tailed test** $t$ would be compared to $PPF(0.05)$ or $PPF(0.95)$. One could also directly calculate $PPF(t)$ and this would give the probability of observing a larger $t$-value than the one obtained if the null hypothesis is true. This probability is called the **p-value**.\n",
    "\n",
    "The following shows an example of a two-tailed single-sample $t$-test. The mean yield of the reference oat variety is 2.0 t/ha. A new variety is tested and yields obtained from a sample of 6 plots are calculated."
   ]
  },
  {
   "cell_type": "code",
   "execution_count": 2,
   "metadata": {},
   "outputs": [],
   "source": [
    "import numpy as np\n",
    "from scipy.stats import t\n",
    "from math import sqrt"
   ]
  },
  {
   "cell_type": "code",
   "execution_count": 2,
   "metadata": {},
   "outputs": [
    {
     "name": "stdout",
     "output_type": "stream",
     "text": [
      "The mean of the sample is : 2.419\n",
      "The standard deviation of the sample is : 0.258\n",
      "The t value associated with the sample is : 3.983\n",
      "The critical values of the t-distribution for a 95 % confidence interval are -2.571 and 2.571.\n",
      "\n",
      "We can reject the null hypothesis with a 5 % level of significance.\n",
      "The actual probability of rejecting the null hypothesis if it is true is 1.05 %.\n"
     ]
    }
   ],
   "source": [
    "#reference yield\n",
    "mu = 2.0\n",
    "\n",
    "#sample of new varitey yields\n",
    "sample = np.random.normal(loc=2.3, scale=0.26, size=6)\n",
    "n = len(sample)\n",
    "x = np.mean(sample)\n",
    "s = np.std(sample, ddof=1) #ddof is delta degrees of freedom so that df = n - ddof\n",
    "\n",
    "#t associated with the sample and corresponding probability\n",
    "t_value = (x - mu) / (s / sqrt(n))\n",
    "prob = t.cdf(t_value, df=n-1)\n",
    "\n",
    "#critical values of the t-distribution\n",
    "crit = [t.ppf(0.025, df=n-1), t.ppf(0.975, df=n-1)]\n",
    "\n",
    "print(\"The mean of the sample is : {:.3f}\".format(x))\n",
    "print(\"The standard deviation of the sample is : {:.3f}\".format(s))\n",
    "print(\"The t value associated with the sample is : {:.3f}\".format(t_value))\n",
    "print(\"The critical values of the t-distribution for a 95 % confidence interval are {0:.3f} and {1:.3f}.\".format(crit[0], crit[1]))\n",
    "\n",
    "if crit[0] < t_value < crit[1]:\n",
    "    print(\"\\nWe cannot reject the null hypothesis with a 5 % level of significance.\")\n",
    "else:\n",
    "    print(\"\\nWe can reject the null hypothesis with a 5 % level of significance.\")\n",
    "\n",
    "print(\"The actual probability of rejecting the null hypothesis if it is true is {:.2f} %.\".format((1 - prob) * 2 * 100))"
   ]
  },
  {
   "cell_type": "markdown",
   "metadata": {},
   "source": [
    "## Estimation versus hypothesis testing\n",
    "If a test rejects the null hypothesis, it is not informative if a big difference is expected. Calculation of confidence intervals conveys more information because it gives an indication of the size of the difference. The 95 % confidence interval for the sample above is obtained by adding and subtracting the critical values multiplied by the standard error."
   ]
  },
  {
   "cell_type": "code",
   "execution_count": 3,
   "metadata": {},
   "outputs": [
    {
     "name": "stdout",
     "output_type": "stream",
     "text": [
      "The sample mean is between 2.149 and 2.690.\n"
     ]
    }
   ],
   "source": [
    "ci = [x + value * s / sqrt(n) for value in crit] \n",
    "print(\"The sample mean is between {0:.3f} and {1:.3f}.\".format(ci[0], ci[1]))"
   ]
  },
  {
   "cell_type": "markdown",
   "metadata": {},
   "source": [
    "## Paired sample $t$-test\n",
    "This test can be used to compare pairs of similar samples. For example, one could plant two varieties in adjacent plots and measure their yields. If the two varieties give equal population yields, you would expect the mean of the within pair difference to be zero (null hypothesis : $\\mu = 0$), so the paired $t$-test is a single sample $t$-test on the differences."
   ]
  },
  {
   "cell_type": "code",
   "execution_count": 33,
   "metadata": {},
   "outputs": [
    {
     "name": "stdout",
     "output_type": "stream",
     "text": [
      "Paired t-test for Variety A - Variety B\n",
      "\n",
      "                Size      Mean     StDev   SE Mean\n",
      "Variety A          8    14.875     3.459     1.223\n",
      "Variety B          8    13.350     2.771     0.980\n",
      "Difference         8     1.525     1.516     0.536\n",
      "\n",
      "\n",
      "95 % CI for mean difference: (0.257, 2.793)\n",
      "t-test of mean difference = 0 (vs not = 0) : t-value = 2.845, p-value = 0.0249\n"
     ]
    }
   ],
   "source": [
    "#array which stores the yields on paired plots of 8 farms and the difference in yields\n",
    "yield_A = np.array([17.8, 18.5, 12.2, 19.7, 10.8, 11.9, 15.6, 12.5])\n",
    "yield_B = np.array([14.7, 15.2, 12.9, 18.3, 10.1, 12.2, 13.5, 9.9])\n",
    "yield_diff = yield_A - yield_B\n",
    "\n",
    "#sample size\n",
    "n_A = len(yield_A)\n",
    "n_B = len(yield_B)\n",
    "n = len(yield_diff)\n",
    "ns = np.array([n_A, n_B, n])\n",
    "\n",
    "#means\n",
    "mu_A = np.mean(yield_A)\n",
    "mu_B = np.mean(yield_B)\n",
    "mu_d = np.mean(yield_diff)\n",
    "means = np.array([mu_A, mu_B, mu_d])\n",
    "\n",
    "#standard deviations\n",
    "s_A = np.std(yield_A, ddof=1)\n",
    "s_B = np.std(yield_B, ddof=1)\n",
    "s_d = np.std(yield_diff, ddof=1)\n",
    "std_dev = np.array([s_A, s_B, s_d])\n",
    "\n",
    "#standard errors\n",
    "std_err = np.array([s_A / sqrt(n_A), s_B / sqrt(n_B), s_d / sqrt(n)])\n",
    "\n",
    "index = [\"Variety A\", \"Variety B\", \"Difference\"]\n",
    "\n",
    "#critical values from t-distribution\n",
    "crit_diff = [t.ppf(0.025, df=n-1), t.ppf(0.975, df=n-1)]\n",
    "\n",
    "#95 % confidence interval for difference of yields\n",
    "ci_diff = [mu_d + value * s_d / sqrt(n) for value in crit_diff]\n",
    "\n",
    "#t-test\n",
    "t_val = (mu_d - 0) / (s_d / sqrt(n))\n",
    "p_val = 2 * (1 - t.cdf(t_val, df=n-1))\n",
    "\n",
    "#print results\n",
    "print(\"Paired t-test for Variety A - Variety B\\n\")\n",
    "\n",
    "#print a table using string formatting (Minitab style)\n",
    "print(\"{0:10}{1:>10}{2:>10}{3:>10}{4:>10}\".format(\"\", \"Size\", \"Mean\", \"StDev\", \"SE Mean\"))\n",
    "for i in range(len(index)):\n",
    "    print(\"{0:10}{1:10}{2:10.3f}{3:10.3f}{4:10.3f}\".format(index[i], ns[i], means[i], std_dev[i], std_err[i]))\n",
    "print(\"\\n\")\n",
    "print(\"95 % CI for mean difference: ({0:.3f}, {1:.3f})\".format(ci_diff[0], ci_diff[1]))\n",
    "print(\"t-test of mean difference = 0 (vs not = 0) : t-value = {0:.3f}, p-value = {1:.4f}\".format(t_val, p_val))"
   ]
  }
 ],
 "metadata": {
  "kernelspec": {
   "display_name": "Python 3",
   "language": "python",
   "name": "python3"
  },
  "language_info": {
   "codemirror_mode": {
    "name": "ipython",
    "version": 3
   },
   "file_extension": ".py",
   "mimetype": "text/x-python",
   "name": "python",
   "nbconvert_exporter": "python",
   "pygments_lexer": "ipython3",
   "version": "3.5.2"
  }
 },
 "nbformat": 4,
 "nbformat_minor": 2
}
