{
 "cells": [
  {
   "cell_type": "markdown",
   "metadata": {},
   "source": [
    "# Missing values and incomplete blocks\n",
    "\n",
    "## 1. Introduction\n",
    "\n",
    "Data from some experimental units may be missing for several reasons:\n",
    "* a plot was destroyed by accidental events\n",
    "* some measurements are lost\n",
    "* illogical data were recorded because the wrong treatment was applied\n",
    "\n",
    "A distinction must be made between a zero value and a missing value. If the measured value is zero because of the treatment, it is truely zero and not a missing value. However, zeros values obtained on measurements which depend on another value measured as zero, should be treated as missing. For example, if seed yield is zero because of one treatment, grain size should be treated as missing. Illogical data should not be treated as missing unless it can be established that values are due to errors.\n",
    "\n",
    "## 2. Missing values in a completely randomised design\n",
    "\n",
    "In this case, the effect of data loss on the analysis is minimal. If there is an unequal number of replications per treatment there is no common standard error of the difference (SED). If one treatment has $n_1$ replications and another has $n_2$ replications the SED value is:\n",
    "\n",
    "$$SED = \\sqrt{RMS \\left(\\frac{1}{n_1} + \\frac{1}{n_2} \\right)}$$\n",
    "\n",
    "## 3. Missing values in a randomised block design\n",
    "\n",
    "In this case, the treatment and block effects get mixed up. For example, the mean of treatment A may be based on three blocks  whereas that for treatment B may be based on four, which may not include the three blocks containing treatment A. Hence, the differences between two treatment means is partly due to block differences.\n",
    "\n",
    "There are two ways of dealing with this problem:\n",
    "* estimate the missing values and carry out the analysis with estimates\n",
    "* use only the available data and fit models\n",
    "\n",
    "If all the yields for a particular treatment are missing or zero, doe not include this treatment in your analysis. The same logic applies for blocks.\n",
    "\n",
    "### 3.1 Estimating missing values\n",
    "\n",
    "Estimation should not be performed if more than 10% values are missing. Missing value estimation does not supply any information, they just allow to apply the usual balanced ANOVA. The residual degrees of freedom are reduced by the number of missing values estimated. The estimates are chosen so as to minimise the residual sum of squares.\n",
    "\n",
    "### 3.2 Exact analysis of a randomised block design with missing values\n",
    "\n",
    "When values are missing, the design becomes unbalanced. The analysis proceeds using the *general linear model* (GLM) approach. First, a model is fitted with only blocks in it. The is equivalent to a one-way ANOVA with blocks as the only factor. The residual sum of squares is noted. Then a model is fitted in which treatments are added. The reduction in the residual sum of squares is that due to treatments after fitting blocks. An ANOVA table is formed in which the effect of treatments after allowing for block differences can be tested for."
   ]
  }
 ],
 "metadata": {
  "kernelspec": {
   "display_name": "Python 3",
   "language": "python",
   "name": "python3"
  },
  "language_info": {
   "codemirror_mode": {
    "name": "ipython",
    "version": 3
   },
   "file_extension": ".py",
   "mimetype": "text/x-python",
   "name": "python",
   "nbconvert_exporter": "python",
   "pygments_lexer": "ipython3",
   "version": "3.5.2"
  }
 },
 "nbformat": 4,
 "nbformat_minor": 2
}
