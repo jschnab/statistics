{
 "cells": [
  {
   "cell_type": "markdown",
   "metadata": {},
   "source": [
    "# Comparaison of regression lines and analysis of covariance\n",
    "\n",
    "## 1. Introduction\n",
    "\n",
    "Previously, we discussed simple linear regression which involves fitting a straight line to a number of points using the method of least squares. In this chapter we show how to compare two or more regression lines. We also show how this technique can be used with analysis of variance to control experimental error, a method called analysis of covariance.\n",
    "\n",
    "## 2. Comparison of two regression lines\n",
    "\n",
    "Here we describe how to test whether regression lines fitted to two independent sets of data are parallel. Using the two independent estimates of slope $\\hat{\\beta_1}$, $\\hat{\\beta_2}$ based on $n_1$ and $n_2$ observations, you wish to test the hypothesis that $\\hat{\\beta_1} = \\hat{\\beta_2}$. If you can assume parallel lines you can go on to test whether the intercepts are equal. If they are you can fit an overall line to the data.\n",
    "\n",
    "In our working example, a greenhouse experiment was carried out to investigate the response of strawberry to two types of fertiliser (F1 and F2). Four plants were grown in each pot and twelve pots were treated at random with each fertiliser. At harvest time various measurements were made on each pot, but for this example we are only interested in the total fruit dry weight (X) and the total leaf area (Y)."
   ]
  },
  {
   "cell_type": "code",
   "execution_count": 1,
   "metadata": {},
   "outputs": [],
   "source": [
    "import pandas as pd\n",
    "import numpy as np\n",
    "import matplotlib.pyplot as plt\n",
    "from scipy.stats import t, f, probplot, linregress, levene"
   ]
  },
  {
   "cell_type": "code",
   "execution_count": 2,
   "metadata": {},
   "outputs": [],
   "source": [
    "#dataframe of experimental data\n",
    "data = pd.DataFrame({'fertiliser':[1 for _ in range(12)] + [2 for _ in range(12)],\n",
    "                     'X':[0.29, 0.43, 0.21, 0.53, 0.27, 0.33, 0.47, 0.40, 0.48, 0.30, 0.37, 0.30,\n",
    "                          0.27, 0.37, 0.42, 0.19, 0.30, 0.25, 0.35, 0.48, 0.22, 0.30, 0.14, 0.32],\n",
    "                     'Y':[144, 180, 60, 226, 105, 111, 217, 221, 218, 137, 153, 105,\n",
    "                          129, 206, 172, 80, 124, 89, 134, 220, 138, 105, 62, 181]})"
   ]
  },
  {
   "cell_type": "markdown",
   "metadata": {},
   "source": [
    "### 2.1 Testing for equality of slopes\n",
    "\n",
    "To test the hypothesis that $\\hat{\\beta_1} = \\hat{\\beta_2}$ carry out a t-test by calculating $t = (\\hat{\\beta}_1 - \\hat{\\beta}_2) \\: / \\: SED$ and calculate a p-value on $n_1 + n_2 - 4$ degrees of freedom where SED is the standard error of the difference between the two fitted slopes.\n",
    "\n",
    "$$ SED = \\sqrt{s_p^2 \\left( \\frac{1}{S_{xx1}} + \\frac{1}{S_{xx2}} \\right)} $$\n",
    "\n",
    "$$ s_p^2 = \\frac{ResidSS_1 + ResidSS_2}{(n_1 - 2) + (n_2 - 2)} $$\n",
    "\n",
    "$s_p^2$ is an estimate of the assumed common population residual variance. When $n_1 = n_2$ this is the average of the two residual mean squares $RMS_1$ and $RMS_2$. To test the assumption of common population variance you divide the larger RMS by the smaller to obtain an F-value and then calculate a p-value on $n - 2$ degrees of freedom."
   ]
  },
  {
   "cell_type": "code",
   "execution_count": 38,
   "metadata": {},
   "outputs": [
    {
     "name": "stdout",
     "output_type": "stream",
     "text": [
      "Testing the equality of slopes\n",
      "\n",
      "t-value : 0.775\n",
      "p-value : 0.22365\n"
     ]
    },
    {
     "data": {
      "image/png": "[encoded data removed]",
      "text/plain": [
       "<matplotlib.figure.Figure at 0x2b4e57bb828>"
      ]
     },
     "metadata": {},
     "output_type": "display_data"
    }
   ],
   "source": [
    "#get x and y values for the two treatments\n",
    "X1 = data[data['fertiliser']==1]['X']\n",
    "X2 = data[data['fertiliser']==2]['X']\n",
    "Y1 = data[data['fertiliser']==1]['Y']\n",
    "Y2 = data[data['fertiliser']==2]['Y']\n",
    "\n",
    "#sample size\n",
    "n1 = len(data[data['fertiliser']==1])\n",
    "n2 = len(data[data['fertiliser']==2])\n",
    "\n",
    "#degrees of freedom\n",
    "df1 = n1 - 2\n",
    "df2 = n2 - 2\n",
    "df_resid = df1 + df2\n",
    "\n",
    "#get sum of squares\n",
    "Sxx1 = X1.var() * (n1 - 1)\n",
    "Sxx2 = X2.var() * (n2 - 1)\n",
    "\n",
    "#perform  linear regression\n",
    "slope1, intercept1, rval1, pval1, stderr1 = linregress(X1, Y1)\n",
    "slope2, intercept2, rval2, pval2, stderr2 = linregress(X2, Y2)\n",
    "\n",
    "#fitted values\n",
    "Y1_fit = X1 * slope1 + intercept1\n",
    "Y2_fit = X2 * slope2 + intercept2\n",
    "\n",
    "#residual sum of squares\n",
    "resid_ss1 = np.sum((Y1 - Y1_fit) ** 2)\n",
    "resid_ss2 = np.sum((Y2 - Y2_fit) ** 2)\n",
    "\n",
    "#residual mean squares\n",
    "resid_ms1 = resid_ss1 / df1\n",
    "resid_ms2 = resid_ss2 / df2\n",
    "\n",
    "#common population residual variance\n",
    "sp2 = (resid_ss1 + resid_ss2) / (n1 + n2 - 4)\n",
    "\n",
    "#standard error of the difference between the slopes\n",
    "sed = np.sqrt(sp2 * (1 / Sxx1 + 1 / Sxx2))\n",
    "\n",
    "t_val = (slope1 - slope2) / sed\n",
    "\n",
    "p_val = 1 - t.cdf(abs(t_val), df_resid)\n",
    "\n",
    "fig, ax = plt.subplots()\n",
    "ax.scatter(X1, Y1, label='F1', zorder=5)\n",
    "ax.scatter(X2, Y2, label='F2', zorder=5)\n",
    "ax.plot(X1, X1 * slope1 + intercept1, label='Fitted F1', zorder=4)\n",
    "ax.plot(X2, X2 * slope2 + intercept2, label='Fitted F2', zorder=4)\n",
    "for spine in ['top', 'bottom', 'left', 'right']:\n",
    "    ax.spines[spine].set_visible(False)\n",
    "ax.grid(color='lightgrey')\n",
    "ax.tick_params(axis='both', color='white')\n",
    "ax.set_xlabel('Fruit dry weight', fontsize=14)\n",
    "ax.set_ylabel('Total leaf area', fontsize=14)\n",
    "plt.legend()\n",
    "\n",
    "print('Testing the equality of slopes\\n')\n",
    "print('t-value : {:.3f}'.format(t_val))\n",
    "print('p-value : {:.5f}'.format(p_val))"
   ]
  },
  {
   "cell_type": "markdown",
   "metadata": {},
   "source": [
    "The p-value for the test that the slopes are equal is 0.22 so we cannot reject this hypothesis. The data are thus in agreement with the hypothesis of a common slope. The estimate for the common slope is:\n",
    "\n",
    "$$  \\hat{\\beta} = \\frac{S_{xy1} + S_{xy2}}{S_{xx1} + S_{xx2}} $$\n",
    "\n",
    "We can assume that the lines have a common slope, but it does not necessarily imply they are identical, only that they are parallel. You can only use the overall fitted line if  you can also show that the intercepts are not significantly different. Assuming a common slope the two intercepts are estimated as:\n",
    "\n",
    "$$ \\hat{\\alpha}_1 = \\bar{Y}_1 - \\hat{\\beta} \\bar{X}_1 $$\n",
    "$$ \\hat{\\alpha}_2 = \\bar{Y}_2 - \\hat{\\beta} \\bar{X}_2 $$"
   ]
  },
  {
   "cell_type": "code",
   "execution_count": 24,
   "metadata": {},
   "outputs": [
    {
     "name": "stdout",
     "output_type": "stream",
     "text": [
      "Estimated intercept 1 : -21.670\n",
      "Estimated intercept 2 : -10.113\n"
     ]
    }
   ],
   "source": [
    "#estimated slope\n",
    "Sxy1 = np.dot(X1, Y1) - X1.sum() * Y1.sum() / len(X1)\n",
    "Sxy2 = np.dot(X2, Y2) - X2.sum() * Y2.sum() / len(X2)\n",
    "slope = (Sxy1 + Sxy2) / (Sxx1 + Sxx2)\n",
    "\n",
    "#estimated intercepts\n",
    "intercept1 = Y1.mean() - slope * X1.mean()\n",
    "intercept2 = Y2.mean() - slope * X2.mean()\n",
    "print('Estimated intercept 1 : {:.3f}'.format(intercept1))\n",
    "print('Estimated intercept 2 : {:.3f}'.format(intercept2))"
   ]
  },
  {
   "cell_type": "markdown",
   "metadata": {},
   "source": [
    "### 2.2 Test for equality of intercepts\n",
    "\n",
    "It only makes sense to compare the intercepts if the lines are parallel. When they are parallel, a test of equality of intercepts is a test of the difference in elevations of the two lines.\n",
    "\n",
    "To test the hypothesis that $\\alpha_1 = \\alpha_2$ carry out a t-test by calculating $t = (\\hat{\\alpha}_1 - \\hat{\\alpha}_2) \\:/ \\: SED$ and calculate a p-value on $n_1 + n_2 - 3$ degrees of freedom where SED is the standard error of the difference between the two fitted intercepts. Its formula is:\n",
    "\n",
    "$$ SED = \\sqrt{s_{yx}^2 \\left( \\frac{1}{n_1} + \\frac{1}{n_2} + \\frac{\\left( \\bar{X}_1 - \\bar{X}_2 \\right) ^2}{S_{xx1} + S_{xx2}} \\right)} $$\n",
    "\n",
    "$$s_{yx}^2 = \\frac{S_{yy1} + S_{yy2} - \\left( S_{xy1} + S_{xy2} \\right) ^2 \\: / \\: \\left( S_{xy1} + S_{xy2} \\right)}{n_1 + n_2 - 3} $$"
   ]
  },
  {
   "cell_type": "code",
   "execution_count": 37,
   "metadata": {},
   "outputs": [
    {
     "name": "stdout",
     "output_type": "stream",
     "text": [
      "Test the equality of intercepts\n",
      "\n",
      "t-value : -1.115\n",
      "p-value : 0.13880\n"
     ]
    }
   ],
   "source": [
    "#testing if intercept1 = intercept2\n",
    "\n",
    "#sum of squares for Y values\n",
    "Syy1 = Y1.var() * (n1 - 1)\n",
    "Syy2 = Y2.var() * (n2 - 1)\n",
    "\n",
    "#standard error of the difference\n",
    "syx2 = (Syy1 + Syy2 - (Sxy1 + Sxy2) ** 2 / (Sxx1 + Sxx2)) / (n1 + n2 - 3)\n",
    "sed_intercept = np.sqrt(syx2 * (1 / n1 + 1 / n2 + (X1.mean() - X2.mean()) ** 2 / (Sxx1 + Sxx2)))\n",
    "\n",
    "#t and p values\n",
    "t_val = (intercept1 - intercept2) / sed_intercept\n",
    "p_val = 1 - t.cdf(abs(t_val), n1 + n2 - 3)\n",
    "\n",
    "print('Test the equality of intercepts\\n')\n",
    "print('t-value : {:.3f}'.format(t_val))\n",
    "print('p-value : {:.5f}'.format(p_val))"
   ]
  },
  {
   "cell_type": "markdown",
   "metadata": {},
   "source": [
    "### 2.3 The adjusted Y means\n",
    "\n",
    "Assuming equal slopes, the difference between the intercepts is the same as the difference between the fitted Y values when $x = \\bar{X}$, the overall X mean. We show this as follows. The fitted equation of line one and two are:\n",
    "\n",
    "$$ Y_1 = \\hat{\\alpha}_1 + \\hat{\\beta} X = \\left( \\bar{Y}_1 -\\hat{\\beta}\\bar{X}_1 \\right) + \\hat{\\beta} X = \\bar{Y}_1 - \\hat{\\beta} \\left( \\bar{X}_1 - X \\right) $$\n",
    "\n",
    "$$ Y_2 = \\hat{\\alpha}_2 + \\hat{\\beta} X = \\left( \\bar{Y}_2 -\\hat{\\beta}\\bar{X}_2 \\right) + \\hat{\\beta} X = \\bar{Y}_2 - \\hat{\\beta} \\left( \\bar{X}_2 - X \\right) $$"
   ]
  },
  {
   "cell_type": "code",
   "execution_count": 42,
   "metadata": {},
   "outputs": [
    {
     "name": "stdout",
     "output_type": "stream",
     "text": [
      "Difference between fitted Y means : -11.558\n"
     ]
    }
   ],
   "source": [
    "Y1_fitted = Y1.mean() - slope * (X1.mean() - data['X'].mean())\n",
    "Y2_fitted = Y2.mean() - slope * (X2.mean() - data['X'].mean())\n",
    "print('Difference between fitted Y means : {:.3f}'.format(Y1_fitted - Y2_fitted))"
   ]
  },
  {
   "cell_type": "markdown",
   "metadata": {},
   "source": [
    "The difference between the fitted Y means is the difference between the intercepts. Thus a test of this difference is a test of the difference between the adjusted Y means. The calculations involved are part of the analysis of covariance, which enables several regression lines to be compared.\n",
    "\n",
    "## 3. Analysis of covariance"
   ]
  }
 ],
 "metadata": {
  "kernelspec": {
   "display_name": "Python 3",
   "language": "python",
   "name": "python3"
  },
  "language_info": {
   "codemirror_mode": {
    "name": "ipython",
    "version": 3
   },
   "file_extension": ".py",
   "mimetype": "text/x-python",
   "name": "python",
   "nbconvert_exporter": "python",
   "pygments_lexer": "ipython3",
   "version": "3.5.2"
  }
 },
 "nbformat": 4,
 "nbformat_minor": 2
}
