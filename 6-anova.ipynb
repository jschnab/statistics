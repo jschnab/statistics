{
 "cells": [
  {
   "cell_type": "markdown",
   "metadata": {},
   "source": [
    "# ANOVA and the completely randomised design\n",
    "\n",
    "## 1. Introduction\n",
    "\n",
    "The completely randomised design is often used to compare the effect of some factors when experimental conditions are uniform. Each factor is applied at random to several experimental units. Randomisation ensures there is no subjectivity in the allocation of factors to units and that the effect of other factors cancel out when factor means are compared.\n",
    "\n",
    "The advantages of the completely randomised design are:\n",
    "* the number of replications need not be the same for each factor\n",
    "* the degrees of freedom are maximised (no other design provides greater degrees of freedom)\n",
    "\n",
    "But there are also a big disadvantage:\n",
    "* low precision if experimental units subject to the same factor are not uniform, which will increase withing-factor variance and factor differences will be difficult to detect\n",
    "\n",
    "The independent samples t-test can be used to analyse the results of a completely randomised design when there are two factors. When there are more than two (categorical) factors **one-way analysis of variance** (ANOVA) is used. If the factors are numerical, linear regression is used. One-way ANOVA compares the between-treatment variation with the within-treatment variation and assesses whether the differences in the means are due to chance or treatment effects.\n",
    "\n",
    "## 2. Example\n",
    "\n",
    "An experiment is carried out to compare four wheat varieties (A, B, C and D). A completely randomised design is used, each variety is assigned to five plots and yields (kg/plot) are measured."
   ]
  },
  {
   "cell_type": "code",
   "execution_count": 2,
   "metadata": {},
   "outputs": [],
   "source": [
    "#import useful modules\n",
    "import numpy as np\n",
    "import pandas as pd\n",
    "import matplotlib.pyplot as plt\n",
    "from scipy.stats import f\n",
    "from scipy.stats import levene\n",
    "from scipy.stats import t\n",
    "from itertools import combinations\n",
    "\n",
    "#yields\n",
    "df = pd.DataFrame({'A':[22.2, 17.3, 21.2, 25.2, 16.1],\n",
    "                  'B':[24.1, 30.3, 27.4, 26.4, 34.8],\n",
    "                  'C':[25.9, 18.4, 23.2, 21.9, 22.6],\n",
    "                  'D':[23.9, 21.7, 24.8, 28.2, 26.4]})"
   ]
  },
  {
   "cell_type": "code",
   "execution_count": 3,
   "metadata": {},
   "outputs": [
    {
     "data": {
      "image/png": "[encoded data removed]",
      "text/plain": [
       "<matplotlib.figure.Figure at 0x27863850940>"
      ]
     },
     "metadata": {},
     "output_type": "display_data"
    },
    {
     "data": {
      "image/png": "[encoded data removed]",
      "text/plain": [
       "<matplotlib.figure.Figure at 0x27863875198>"
      ]
     },
     "metadata": {},
     "output_type": "display_data"
    }
   ],
   "source": [
    "#plot data\n",
    "fig, ax = plt.subplots()\n",
    "pos = list(range(len(df)))\n",
    "for i, col in enumerate(df.columns):\n",
    "    ax.bar(pos[i], np.median(df[col]), zorder=3, edgecolor='k', linewidth=.5)\n",
    "    for j in range(len(df[col])):\n",
    "        ax.scatter(pos[i], df[col][j], c='k', zorder=4)\n",
    "ax.set_xticks(pos)\n",
    "ax.tick_params(axis='x', color='white')\n",
    "ax.set_xticklabels(df.columns)\n",
    "for position in ['top', 'right', 'bottom']:\n",
    "    ax.spines[position].set_visible(False)\n",
    "    \n",
    "#calculate max of Series and set y-axis limit\n",
    "ax.set_ylim(0, 40)\n",
    "\n",
    "ax.set_ylabel('Yield (kg/plot)', fontsize=14)\n",
    "ax.set_xlabel('Variety', fontsize=14)\n",
    "ax.set_title('Yield of four wheat varieties', fontsize=18)\n",
    "plt.show()\n",
    "\n",
    "#plot the data with error bar\n",
    "variances = df.var()\n",
    "std_dev = np.sqrt(variances)\n",
    "fig, ax = plt.subplots()\n",
    "for i, col in enumerate(df.columns):\n",
    "    ax.bar(pos[i], np.mean(df[col]), zorder=3, edgecolor='k', linewidth=.5)\n",
    "    ax.errorbar(pos[i], np.mean(df[col]), std_dev[i], zorder=4, c='k', capsize=5)\n",
    "ax.set_xticks(pos)\n",
    "ax.tick_params(axis='x', color='white')\n",
    "ax.set_xticklabels(df.columns)\n",
    "for position in ['top', 'right', 'bottom']:\n",
    "    ax.spines[position].set_visible(False)\n",
    "ax.set_ylim(0, 40)\n",
    "ax.set_xlabel('Variety', fontsize=14)\n",
    "ax.set_ylabel('Yield (kg/ha)', fontsize=14)\n",
    "plt.show()"
   ]
  },
  {
   "cell_type": "markdown",
   "metadata": {},
   "source": [
    "## 3. Step-by-step calculations\n",
    "\n",
    "The first step is to calculate a table showing the factor (variety) means and the corresponding variances, standard errors and $Sxx$ values. $Sxx$ is the sum of squares of the deviations from the sample mean, and is also equal to $(n - 1)s^2$ where $s^2$ is the sample variance and $n$ is the sample size."
   ]
  },
  {
   "cell_type": "code",
   "execution_count": 4,
   "metadata": {},
   "outputs": [
    {
     "name": "stdout",
     "output_type": "stream",
     "text": [
      "                        A         B          C          D\n",
      "Mean            20.400000  28.60000  22.400000  25.000000\n",
      "Variance        13.755000  16.96500   7.295000   6.085000\n",
      "Standard error   1.658614   1.84201   1.207891   1.103177\n",
      "Sxx             55.020000  67.86000  29.180000  24.340000\n"
     ]
    }
   ],
   "source": [
    "#calculate means, variances, standard errors and Sxx\n",
    "means = df.mean()\n",
    "variances = df.var()\n",
    "std_err = np.sqrt(variances / df.count())\n",
    "std_dev = np.sqrt(variances)\n",
    "Sxx = (df ** 2).sum() - df.sum() ** 2 / df.count()\n",
    "tb = pd.concat([means, variances, std_err, Sxx], axis=1, keys=['Mean', 'Variance', 'Standard error', 'Sxx']).T\n",
    "print(tb)"
   ]
  },
  {
   "cell_type": "markdown",
   "metadata": {},
   "source": [
    "Second, we calculate the **total sum of squares** *TotalSS* which represents the **total variation**. It can be obtained by calculating the sum of squares of deviations from the *grand mean* (the mean over all samples combined) but more simply it is equal to: $$TotalSS = (N - 1)S^2$$ where $N$ is the sum of all sample sizes and $S^2$ the variance over all samples combined. \n",
    "\n",
    "The **factor sum of squares** *FactorSS* is an estimate of the factor (variety) effect and represents the **between-factor variation**. It is calculated with the sum of squares of deviations between *treatment means* and the *grand mean* or more easily with this formula: $$FactorSS = \\sum(\\frac{T^2}{r}) - \\frac{G^2}{N}$$ with $T$ the factor (treatment) mean, $r$ the number of replication for a given factor, and G the grand total (the sum of all values).\n",
    "\n",
    "The **residual sum of squares** *ResidSS* represents the **within-treatment variation**. It is sometimes called the **error sum of squares**. It is calculated by summing squares of deviations between individual values and their *factor mean*, or simply by subtracting *FactorSS* from *TotalSS*."
   ]
  },
  {
   "cell_type": "code",
   "execution_count": 5,
   "metadata": {},
   "outputs": [],
   "source": [
    "#calculate N (total number of values) and nb_t (number of factors)\n",
    "N = len(df.values.flatten())\n",
    "nb_t = len(df.columns)\n",
    "\n",
    "#calculate total sum of squares\n",
    "total_ss = df.values.flatten().var(ddof=1) * (df.size - 1)\n",
    "\n",
    "#calculate factor sum of squares\n",
    "factor_ss = sum(df.sum() ** 2 / df.count()) - (df.values.sum()) ** 2 / len(df.values.flatten())\n",
    "\n",
    "#calculate residual sum of squares\n",
    "resid_ss = total_ss - factor_ss"
   ]
  },
  {
   "cell_type": "markdown",
   "metadata": {},
   "source": [
    "## 4. Analysis of variance\n",
    "\n",
    "We test the null hypothesis that all treatments have the same effect on the yield. If all varieties have the same yield, the four sample means are all estimates of a common population mean. For the test to be valid, we assume that the observed yields for each variety are independent random samples from normally distributed populations each having the same variance $\\sigma^2$. To test wheather means differ significantly between, the between-treatment variation is compared with the within-treatment variation. If *FactorSS* is greater than *ResidSS*, we suspect that this is due to real differences between factors of the experiment.\n",
    "\n",
    "For each factor, the values are assumed to be a random sample of measurements taken from the hypothetical population of all possible measurements that could be obtained. Here we have four factors (varieties), so we have four hypothetical populations. If these populations have the same variance $\\sigma^2$, called the **experimental error variance**, then the individual variance estimates $s_1^2$, $s_2^2$, $s_3^2$, $s_4^2$ can be pooled to give a more precise estimate of the experimental error. This pooled estimate of $\\sigma^2$ is called $s_p^2$ and is a weighted average of the individual $s^2$ values, with the weights being the individual degrees of freedom: $$s_p^2 = \\sum\\limits_i\\frac{(n_i - 1)s_i^2}{n_i - 1}$$\n",
    "which is equal to summing $Sxx$ values for each sample, divided by the total number of degrees of freedom (total number of replicates N minus the number of factors t): $$s_p^2 = \\frac{\\sum Sxx}{N - t}$$\n",
    "$s_p^2$ is a pooled estimate of the error variance $\\sigma^2$. It is also called the **residual mean square** (*RMS*). "
   ]
  },
  {
   "cell_type": "code",
   "execution_count": 6,
   "metadata": {},
   "outputs": [],
   "source": [
    "#calculate the experimental error variance\n",
    "resid_ms = Sxx.sum() / (N - nb_t)"
   ]
  },
  {
   "cell_type": "markdown",
   "metadata": {},
   "source": [
    "Under the null hypothesis that all factors have the same effect, statistical theory shows that the sample variance of the factor means is an estimate of $\\sigma^2/r$. Thus, we multiply it by r to obtain an estimate of $\\sigma^2$ under the null hypothesis. This estimate is called the **factor mean square** denoted *FMS*. It can be calculated by finding the *FactorSS* and then dividing by $t - 1$, the number of factors minus 1. The factor mean square is an estimate of $\\sigma^2$ under the null hypothesis of no treatment differences. $$FMS = \\frac{FactorSS}{t - 1}$$\n",
    "\n",
    "If there are factor differences the variation in the factor means will tend to be larger than expected under the null hypothesis and the *FMS* will tend to be an estimate of something larger than $\\sigma^2$. Whether or not the null hypothesis is true, the within-treatment variation summarised by *RMS* is an estimate of $\\sigma^2$. If the null hypothesis is true, similar values will be obtained for *RMS* and *FMS*. On the other hand, if factors have a different effect, *FMS* will be larger than *RMS*. To test the null hypothesis, the ratio of these two variance estimates is calculated. It is called the **variance ratio** and denoted by VR: $$VR = \\frac{FMS}{RMS}$$\n",
    "A value of $VR$ much larger than 1 provides evidence of different factor effects. To calculate a p-value, VR is compared with values of the F-distribution with $(t - 1, \\thinspace N - t)$ degrees of freedom."
   ]
  },
  {
   "cell_type": "code",
   "execution_count": 7,
   "metadata": {},
   "outputs": [],
   "source": [
    "#calculate factor mean square\n",
    "factor_ms = factor_ss / (nb_t - 1)\n",
    "\n",
    "#calculate vr\n",
    "vr = factor_ms / resid_ms\n",
    "\n",
    "#calculate p-value\n",
    "p_val = 1 - f.cdf(vr, nb_t - 1, N - nb_t)"
   ]
  },
  {
   "cell_type": "code",
   "execution_count": 8,
   "metadata": {},
   "outputs": [
    {
     "name": "stdout",
     "output_type": "stream",
     "text": [
      "Analysis of variance\n",
      "Source            df    Sum sq   Mean sq   F-value   p-value\n",
      "Factor             3    188.20     62.73     5.690   0.00756\n",
      "Error             16    176.40     11.02\n",
      "Total             19    364.60\n",
      "\n",
      "Level         N      Mean     StDev\n",
      "A             5    20.400     3.709\n",
      "B             5    28.600     4.119\n",
      "C             5    22.400     2.701\n",
      "D             5    25.000     2.467\n"
     ]
    }
   ],
   "source": [
    "print('Analysis of variance')\n",
    "print('{0:10}{1:>10}{2:>10}{3:>10}{4:>10}{5:>10}'.format('Source', 'df', 'Sum sq', 'Mean sq', 'F-value', 'p-value'))\n",
    "print('{0:10}{1:>10}{2:>10.2f}{3:>10.2f}{4:>10.3f}{5:>10.5f}'.format('Factor', nb_t - 1, factor_ss, factor_ms, vr, p_val))\n",
    "print('{0:10}{1:>10}{2:>10.2f}{3:>10.2f}'.format('Error', N - nb_t, resid_ss, resid_ms))\n",
    "print('{0:10}{1:>10}{2:>10.2f}'.format('Total', N - 1, total_ss))\n",
    "print()\n",
    "print('{0:5}{1:>10}{2:>10}{3:>10}'.format('Level', 'N', 'Mean', 'StDev'))\n",
    "for i in range(nb_t):\n",
    "    print('{0:5}{1:>10}{2:>10.3f}{3:>10.3f}'.format(df.columns[i], df.count().iloc[i], means[i], std_dev[i]))"
   ]
  },
  {
   "cell_type": "markdown",
   "metadata": {},
   "source": [
    "Finally, we calculate the **coefficient of variation** *CV*. Although *RMS* gives an estimate of residual variation, its size depends on the measurement unit. *CV* is a measure of the residual variation independent of the measurement unit, expressed in percent, and is calculated by dividing the square root of the residual mean square by the grand mean:\n",
    "$$CV = \\frac{\\sqrt{RMS}}{GM}$$"
   ]
  },
  {
   "cell_type": "code",
   "execution_count": 9,
   "metadata": {},
   "outputs": [],
   "source": [
    "#calculate coefficient of variation\n",
    "gm = df.values.sum() / len(df.values.flatten()) #grand mean\n",
    "cv = np.sqrt(resid_ms) / gm * 100"
   ]
  },
  {
   "cell_type": "markdown",
   "metadata": {},
   "source": [
    "## 5. After ANOVA\n",
    "\n",
    "The F-test in the analysis of variance is used to test whether there are any significant differences between the treatment means, it does not tell you where these differences lie. To compare individual varieties, we can perform a **least significant difference** (*LSD*) analysis. Concretely, it is equivalent to performing t-tests on every pairwise sample comparison. The reason is that for each comparison, we use the same **standard error of the difference** (*SED*) between the two means, which is calculated using the following formula: $$ SED = \\sqrt{s_p^2\\left(\\frac{1}{n_1}+\\frac{1}{n_2}\\right)}$$\n",
    "where $s_p^2$ is *RMS* from the ANOVA. Under the assumption of equal variance between samples, sample $s^2$ values are all estimators of the population variance $\\sigma^2$. As the same *SED* value is used in all the tests, we can declare two sample means significantly different at the 5% level on a two-tailed test if: $$\\frac{\\bar{x_1}-\\bar{x_2}}{SED} > t_{(N - t, \\thinspace 2.5\\%)}$$\n",
    "In other words, two means are significantly different if their difference is greater than the **least significant difference level**: $$t_{(N - t, \\thinspace 2.5\\%)} \\times SED$$\n",
    "\n",
    "*LSD* analysis is controversial, some people say it should only be used for comparisons planned in advance, not for every sample comparison, and not for more than $N - t$ comparisons. Some people say *LSD* should not be carried out if the F-test on the ANOVA is not significant, and some people even say LSD should never be used. The problem is that is too many comparisons are performed, the likeliness of a false positive increases. In our example, the probability of a false positive with a single comparison is 0.05, but if all comparisons are made this increases to 0.184 and is called the family error rate. Methods exist to reduce the false positive rate when making multiple comparisons, for example Tukey's pairwise comparisons.\n",
    "\n",
    "Another way to test for differences in means between samples is to perform Fisher's pairwise comparisons. This calculates all possible means differences and the 95 % confidence interval for the difference between two means. If zero is not in the confidence interval, the difference is statistically different. Fisher's pairwise comparisons are equivalent to LSD analysis, so the same warnings apply."
   ]
  },
  {
   "cell_type": "code",
   "execution_count": 10,
   "metadata": {},
   "outputs": [
    {
     "name": "stdout",
     "output_type": "stream",
     "text": [
      "         Diff means    LSD  SED  t_val  p-value\n",
      "Samples                                        \n",
      "(A, B)         -8.2  4.452  2.1 -3.905  0.00126\n",
      "(A, C)         -2.0  4.452  2.1 -0.952  0.35507\n",
      "(A, D)         -4.6  4.452  2.1 -2.190  0.04364\n"
     ]
    }
   ],
   "source": [
    "#LSD analysis between sample A and the other samples\n",
    "\n",
    "#combination of samples\n",
    "comb = list(combinations(df.columns, 2))[:nb_t - 1]\n",
    "\n",
    "#dataframe to store lsd analysis\n",
    "lsd_tb = pd.DataFrame(np.zeros((len(comb), 5)))\n",
    "\n",
    "for i, c in enumerate(comb):\n",
    "    dif_mean = means[c[0]] - means[c[1]]\n",
    "    sed = np.sqrt(resid_ms * (1 / len(df[c[0]]) + 1 / len(df[c[1]])))\n",
    "    t_val = dif_mean / sed\n",
    "    lsd = t.ppf(0.975, df=N - nb_t) * sed\n",
    "    p_val = 2 * (1 - t.cdf(abs(t_val), N - nb_t))\n",
    "    \n",
    "    lsd_tb.iloc[i, 0] = round(dif_mean, 3)\n",
    "    lsd_tb.iloc[i, 1] = round(lsd, 3)\n",
    "    lsd_tb.iloc[i, 2] = round(sed, 3)\n",
    "    lsd_tb.iloc[i, 3] = round(t_val, 3)\n",
    "    lsd_tb.iloc[i, 4] = round(p_val, 5)\n",
    "    \n",
    "lsd_tb.columns = ['Diff means', 'LSD', 'SED', 't_val', 'p-value']\n",
    "lsd_tb.insert(0, 'Samples', comb)\n",
    "lsd_tb = lsd_tb.set_index('Samples')\n",
    "print(lsd_tb)"
   ]
  },
  {
   "cell_type": "markdown",
   "metadata": {},
   "source": [
    "### Confidence intervals\n",
    "\n",
    "The 95 % confidence interval for the difference between two factor means is $difference \\thinspace in \\thinspace means \\thinspace \\pm \\thinspace LSD_{5\\%}$. For samples A and B, this is $8.2 \\pm 4.445$. This confidence interval does not include zero, indicating the means of A and B are significantly different at the 5% level on a two-tailed test.\n",
    "\n",
    "We can also calculate confidence interval for individual factor means. The pooled standard error for an individual factor level mean is $SEM = \\sqrt{s_p^2/r}$ where $r$ is the number of replications for this level. A 95% confidence interval for a particular factor level mean is $mean \\pm t_{(N \\thinspace - \\thinspace t, \\thinspace 2.5\\%)} \\times SEM$. Let's calculate these values for our example."
   ]
  },
  {
   "cell_type": "code",
   "execution_count": 25,
   "metadata": {},
   "outputs": [
    {
     "name": "stdout",
     "output_type": "stream",
     "text": [
      "Standard error of the mean : 1.485\n",
      "\n",
      "Confidence interval for sample A : 17.252 - 23.548\n",
      "Confidence interval for sample B : 25.452 - 31.748\n",
      "Confidence interval for sample C : 19.252 - 25.548\n",
      "Confidence interval for sample D : 21.852 - 28.148\n"
     ]
    }
   ],
   "source": [
    "#calculate standard error of the mean\n",
    "sem = np.sqrt(resid_ms / df.count()[0])\n",
    "print('Standard error of the mean : {:.3f}\\n'.format(sem))\n",
    "\n",
    "#calculate t(N-t, 2.5%)\n",
    "crit = [t.ppf(0.025, N - nb_t), t.ppf(0.975, N - nb_t)]\n",
    "\n",
    "#calculate confidence intervals\n",
    "CI = [[mean + value * sem for value in crit] for mean in means]\n",
    "\n",
    "for i, level in enumerate(means.index):\n",
    "    print('Confidence interval for sample {0} : {1:.3f} - {2:.3f}'.format(level, CI[i][0], CI[i][1]))"
   ]
  },
  {
   "cell_type": "code",
   "execution_count": 40,
   "metadata": {},
   "outputs": [],
   "source": [
    "#putting it all together\n",
    "def anova(data, xlabel, ylabel, lsd=False):\n",
    "    \"\"\"Perform ANOVA on a pandas DataFrame where factors are present in colums and repetitions in rows. The argument lsd\n",
    "    can be set to True to calculate the Least Significant Difference.\"\"\"\n",
    "    \n",
    "    #calculate descriptive parameters\n",
    "    means = data.mean()\n",
    "    variances = data.var()\n",
    "    std_err = np.sqrt(variances / data.count())\n",
    "    std_dev = np.sqrt(variances)\n",
    "    Sxx = (data ** 2).sum() - data.sum() ** 2 / data.count()\n",
    "    \n",
    "    #plot the data with error bar\n",
    "    pos = list(range(len(data)))\n",
    "    fig, ax = plt.subplots()\n",
    "    for i, col in enumerate(data.columns):\n",
    "        ax.bar(pos[i], np.mean(data[col]), zorder=3, edgecolor='k', linewidth=.5)\n",
    "        ax.errorbar(pos[i], np.mean(data[col]), std_dev[i], zorder=4, c='k', capsize=5)\n",
    "        \n",
    "    #optimize figure style\n",
    "    ax.set_xticks(pos)\n",
    "    ax.tick_params(axis='x', color='white')\n",
    "    ax.set_xticklabels(data.columns)\n",
    "    for position in ['top', 'right', 'bottom']:\n",
    "        ax.spines[position].set_visible(False)\n",
    "        \n",
    "    #adjust y-axis limits\n",
    "    ax.set_ylim(0, round(max((data.values.flatten()) + max(std_dev)) / 5) * 5)\n",
    "    \n",
    "    #add axes label\n",
    "    ax.set_xlabel(xlabel, fontsize=14)\n",
    "    ax.set_ylabel(ylabel, fontsize=14)\n",
    "    plt.show()\n",
    "    \n",
    "    #calculate N (total number of values) and t (number of factors)\n",
    "    N = len(data.values.flatten())\n",
    "    nb_t = len(data.columns)\n",
    "\n",
    "    #calculate total sum of squares\n",
    "    total_ss = data.values.flatten().var(ddof=1) * (data.size - 1)\n",
    "\n",
    "    #calculate factor sum of squares\n",
    "    factor_ss = sum(data.sum() ** 2 / data.count()) - (data.values.sum()) ** 2 / N\n",
    "\n",
    "    #calculate residual sum of squares\n",
    "    resid_ss = total_ss - factor_ss\n",
    "    \n",
    "    #calculate the experimental error variance\n",
    "    resid_ms = Sxx.sum() / (N - nb_t)\n",
    "    \n",
    "    #calculate factor mean square\n",
    "    factor_ms = factor_ss / (nb_t - 1)\n",
    "\n",
    "    #calculate vr\n",
    "    vr = factor_ms / resid_ms\n",
    "\n",
    "    #calculate p-value\n",
    "    p_val = 1 - f.cdf(vr, nb_t - 1, N - nb_t)\n",
    "    \n",
    "    #calculate coefficient of variation\n",
    "    gm = data.values.sum() / len(data.values.flatten()) #grand mean\n",
    "    cv = np.sqrt(resid_ms) / gm * 100\n",
    "    \n",
    "    #print results\n",
    "    print('Analysis of variance')\n",
    "    print('{0:10}{1:>10}{2:>10}{3:>10}{4:>10}{5:>10}'.format('Source', 'df', 'Sum sq', 'Mean sq', 'F-value', 'p-value'))\n",
    "    print('{0:10}{1:>10}{2:>10.2f}{3:>10.2f}{4:>10.3f}{5:>10.5f}'.format('Factor', nb_t - 1, factor_ss, factor_ms, vr, p_val))\n",
    "    print('{0:10}{1:>10}{2:>10.2f}{3:>10.2f}'.format('Error', N - nb_t, resid_ss, resid_ms))\n",
    "    print('{0:10}{1:>10}{2:>10.2f}'.format('Total', N - 1, total_ss))\n",
    "    print()\n",
    "    print('{0:5}{1:>10}{2:>10}{3:>10}'.format('Level', 'N', 'Mean', 'StDev'))\n",
    "    for i in range(nb_t):\n",
    "        print('{0:5}{1:>10}{2:>10.3f}{3:>10.3f}'.format(data.columns[i], data.count().iloc[i], means[i], std_dev[i]))\n",
    "    print()\n",
    "    print('Coefficient of variation : {:.2f}%'.format(cv))\n",
    "    print()\n",
    "    \n",
    "    if lsd:\n",
    "        #calculate sum of squares\n",
    "        Sxx = (data ** 2).sum() - data.sum() ** 2 / data.count()\n",
    "    \n",
    "        #calculate N (total number of values) and nb_t (number of factors)\n",
    "        N = len(data.values.flatten())\n",
    "        nb_t = len(data.columns)\n",
    "\n",
    "        #calculate the experimental error variance\n",
    "        resid_ms = Sxx.sum() / (N - nb_t)\n",
    "\n",
    "        #calculate standard error of the difference\n",
    "        #assume same number of replications between factors\n",
    "        sed = np.sqrt(2 * resid_ms / len(data[data.columns[0]]))\n",
    "\n",
    "        #calculate least significant difference\n",
    "        lsd = t.ppf(0.975, df=N - nb_t) * sed\n",
    "        \n",
    "        print('LSD : {:.3f}'.format(lsd))"
   ]
  },
  {
   "cell_type": "code",
   "execution_count": 41,
   "metadata": {},
   "outputs": [
    {
     "data": {
      "image/png": "[encoded data removed]",
      "text/plain": [
       "<matplotlib.figure.Figure at 0x1a4a0a38940>"
      ]
     },
     "metadata": {},
     "output_type": "display_data"
    },
    {
     "name": "stdout",
     "output_type": "stream",
     "text": [
      "Analysis of variance\n",
      "Source            df    Sum sq   Mean sq   F-value   p-value\n",
      "Factor             3    188.20     62.73     5.690   0.00756\n",
      "Error             16    176.40     11.02\n",
      "Total             19    364.60\n",
      "\n",
      "Level         N      Mean     StDev\n",
      "A             5    20.400     3.709\n",
      "B             5    28.600     4.119\n",
      "C             5    22.400     2.701\n",
      "D             5    25.000     2.467\n",
      "\n",
      "Coefficient of variation : 13.78%\n",
      "\n"
     ]
    }
   ],
   "source": [
    "anova(df, 'variety', 'yield')"
   ]
  },
  {
   "cell_type": "code",
   "execution_count": 42,
   "metadata": {},
   "outputs": [
    {
     "data": {
      "image/png": "[encoded data removed]",
      "text/plain": [
       "<matplotlib.figure.Figure at 0x1a4a0a4a400>"
      ]
     },
     "metadata": {},
     "output_type": "display_data"
    },
    {
     "name": "stdout",
     "output_type": "stream",
     "text": [
      "Analysis of variance\n",
      "Source            df    Sum sq   Mean sq   F-value   p-value\n",
      "Factor             3   1170.21    390.07    17.345   0.00073\n",
      "Error              8    179.91     22.49\n",
      "Total             11   1350.12\n",
      "\n",
      "Level         N      Mean     StDev\n",
      "cc            3    24.400     3.709\n",
      "fc            3    12.867     4.119\n",
      "ff            3    36.333     2.701\n",
      "oo            3    36.900     2.467\n",
      "\n",
      "Coefficient of variation : 17.17%\n",
      "\n",
      "LSD : 8.929\n"
     ]
    }
   ],
   "source": [
    "df2 = pd.read_csv('potato.csv', index_col=0)\n",
    "anova(df2, 'virus', 'yield', lsd=True)"
   ]
  }
 ],
 "metadata": {
  "kernelspec": {
   "display_name": "Python 3",
   "language": "python",
   "name": "python3"
  },
  "language_info": {
   "codemirror_mode": {
    "name": "ipython",
    "version": 3
   },
   "file_extension": ".py",
   "mimetype": "text/x-python",
   "name": "python",
   "nbconvert_exporter": "python",
   "pygments_lexer": "ipython3",
   "version": "3.5.2"
  }
 },
 "nbformat": 4,
 "nbformat_minor": 2
}
