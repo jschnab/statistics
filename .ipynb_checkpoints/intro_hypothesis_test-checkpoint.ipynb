{
 "cells": [
  {
   "cell_type": "markdown",
   "metadata": {},
   "source": [
    "# Introduction to hypothesis testing\n",
    "Remember that :\n",
    "* the distribution of sample means $\\bar{x}$ based on samples of size $n$ follows a $t$-distribution with a mean $\\mu$, a standard deviation $\\frac{s}{\\sqrt{n}}$ and $n - 1$ degrees of freedom.\n",
    "* $t = \\frac{\\bar{x} - \\mu}{s / \\sqrt{n}}$ is from a $t$-distribution with a mean of 0, variance of 1 and $n - 1$ degrees of freedom.\n",
    "\n",
    "## The single-sample t-test\n",
    "This is used to test whether the mean $\\mu$ of a normally distributed population is at a specific value $\\mu_0$. The null hypothesis is that the population mean is $\\mu_0$ : $H_0: \\mu = \\mu_0$. The alternative hypothesis is that $\\mu$ is not equal to $\\mu_0$ : $H_1: \\mu \\neq \\mu_0$.\n",
    "\n",
    "To test the null hypothesis, a random sample is taken from the population and the sample mean $\\bar{x}$ and the sample standard deviation $s$ are calculated. The value of $t$ is calculated with the above formula. There is a 95 % chance that $t$ lies between values calculated with the percent point function : $PPF(0.025)$ and $PPF(0.975)$ with $n-1$ degrees of freedom. For a sample of size 10, $PPF(0.025)=-2.262$ and $PPF(0.975)=2.262$ so we reject the null hypothesis if $t < -2.262$ or if $t > 2.262$. This is an example of a **two-tailed test** because before collecting the data we do not know if $\\bar{x}$ will be greater or less than $\\mu_0$. To carry out a **one-tailed test** $t$ would be compared to $PPF(0.05)$ or $PPF(0.95)$. One could also directly calculate $PPF(t)$ and this would give the probability of observing a larger $t$-value than the one obtained if the null hypothesis is true. This probability is called the **p-value**.\n",
    "\n",
    "The following shows an example of a two-tailed single-sample $t$-test. The mean yield of the reference oat variety is 2.0 t/ha. A new variety is tested and yields obtained from a sample of 6 plots are calculated."
   ]
  },
  {
   "cell_type": "code",
   "execution_count": 1,
   "metadata": {},
   "outputs": [],
   "source": [
    "import numpy as np\n",
    "from scipy.stats import t\n",
    "from math import sqrt"
   ]
  },
  {
   "cell_type": "code",
   "execution_count": 2,
   "metadata": {},
   "outputs": [
    {
     "name": "stdout",
     "output_type": "stream",
     "text": [
      "The mean of the sample is : 2.419\n",
      "The standard deviation of the sample is : 0.258\n",
      "The t value associated with the sample is : 3.983\n",
      "The critical values of the t-distribution for a 95 % confidence interval are -2.571 and 2.571.\n",
      "\n",
      "We can reject the null hypothesis with a 5 % level of significance.\n",
      "The actual probability of rejecting the null hypothesis if it is true is 1.05 %.\n"
     ]
    }
   ],
   "source": [
    "#reference yield\n",
    "mu = 2.0\n",
    "\n",
    "#sample of new varitey yields\n",
    "sample = np.random.normal(loc=2.3, scale=0.26, size=6)\n",
    "n = len(sample)\n",
    "x = np.mean(sample)\n",
    "s = np.std(sample, ddof=1) #ddof is delta degrees of freedom so that df = n - ddof\n",
    "\n",
    "#t associated with the sample and corresponding probability\n",
    "t_value = (x - mu) / (s / sqrt(n))\n",
    "prob = t.cdf(t_value, df=n-1)\n",
    "\n",
    "#critical values of the t-distribution\n",
    "crit = [t.ppf(0.025, df=n-1), t.ppf(0.975, df=n-1)]\n",
    "\n",
    "print(\"The mean of the sample is : {:.3f}\".format(x))\n",
    "print(\"The standard deviation of the sample is : {:.3f}\".format(s))\n",
    "print(\"The t value associated with the sample is : {:.3f}\".format(t_value))\n",
    "print(\"The critical values of the t-distribution for a 95 % confidence interval are {0:.3f} and {1:.3f}.\".format(crit[0], crit[1]))\n",
    "\n",
    "if crit[0] < t_value < crit[1]:\n",
    "    print(\"\\nWe cannot reject the null hypothesis with a 5 % level of significance.\")\n",
    "else:\n",
    "    print(\"\\nWe can reject the null hypothesis with a 5 % level of significance.\")\n",
    "\n",
    "print(\"The actual probability of rejecting the null hypothesis if it is true is {:.2f} %.\".format((1 - prob) * 2 * 100))"
   ]
  },
  {
   "cell_type": "markdown",
   "metadata": {},
   "source": [
    "## Estimation versus hypothesis testing\n",
    "If a test rejects the null hypothesis, it is not informative if a big difference is expected. Calculation of confidence intervals conveys more information because it gives an indication of the size of the difference. The 95 % confidence interval for the sample above is obtained by adding and subtracting the critical values multiplied by the standard error."
   ]
  },
  {
   "cell_type": "code",
   "execution_count": 3,
   "metadata": {},
   "outputs": [
    {
     "name": "stdout",
     "output_type": "stream",
     "text": [
      "The sample mean is between 2.149 and 2.690.\n"
     ]
    }
   ],
   "source": [
    "ci = [x + value * s / sqrt(n) for value in crit] \n",
    "print(\"The sample mean is between {0:.3f} and {1:.3f}.\".format(ci[0], ci[1]))"
   ]
  },
  {
   "cell_type": "markdown",
   "metadata": {},
   "source": [
    "## Paired sample $t$-test\n",
    "This test can be used to compare pairs of similar samples. For example, one could plant two varieties in adjacent plots and measure their yields. If the two varieties give equal population yields (null hypothesis), you would expect the mean of the within pair difference to be zero, so the paired $t$-test is a single sample $t$-test on the differences."
   ]
  }
 ],
 "metadata": {
  "kernelspec": {
   "display_name": "Python 3",
   "language": "python",
   "name": "python3"
  },
  "language_info": {
   "codemirror_mode": {
    "name": "ipython",
    "version": 3
   },
   "file_extension": ".py",
   "mimetype": "text/x-python",
   "name": "python",
   "nbconvert_exporter": "python",
   "pygments_lexer": "ipython3",
   "version": "3.5.2"
  }
 },
 "nbformat": 4,
 "nbformat_minor": 2
}
